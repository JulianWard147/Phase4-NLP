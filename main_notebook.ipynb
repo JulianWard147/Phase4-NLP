{
 "cells": [
  {
   "cell_type": "markdown",
   "metadata": {},
   "source": [
    "# Tweet Sentiment\n",
    "\n",
    "This notebook was created as the final product of a project for Phase 4 of the Flatiron School Data Science course. Its authors are Julian Ward and Vu Brown.\n",
    "\n",
    "The goal of this project was to create a model to assess the emotional sentiment of a tweet, on behalf of a hypothetical tech compnay that wished to see how the public was reacting to their products. This task was undertaken to practice and display Natural Language Processing skills on a realistic task. \n",
    "\n",
    "## Bottom Line Up Front\n",
    "\n",
    "The final model created is moderately accurate in the aggregate, but is somewhat limited when focused on individual tweets. We believe this model would be able to assist a human PR team in catching overall trends in sentiment. Because we envision semi-regularly running the model on tweets relating to our client's product, we opted to use the computationally quick Multinomial Bayes Model. \n",
    "\n",
    "An additional use for this model would be to try to find negative tweets, to allow a PR team to quickly respond to potencial problem spots. While this model could provide a narrowed range of possible negative tweets to a PR team, human intervention would be required to sort out false negatives. The threshold for selecting negative tweets could be tweaked to fit with the capacity of our client to provide such human oversight. An alternate notebook exists which contains the skeleton of a model focused on just finding negative sentiment. "
   ]
  },
  {
   "cell_type": "code",
   "execution_count": 1,
   "metadata": {},
   "outputs": [],
   "source": [
    "import pandas as pd\n",
    "\n",
    "from nltk import word_tokenize          \n",
    "from nltk.stem import WordNetLemmatizer\n",
    "from nltk.tokenize import RegexpTokenizer\n",
    "from nltk import FreqDist\n",
    "from nltk.corpus import stopwords\n",
    "\n",
    "from sklearn.ensemble import RandomForestClassifier\n",
    "from sklearn.dummy import DummyClassifier\n",
    "from sklearn.pipeline import Pipeline\n",
    "from sklearn.feature_extraction.text import CountVectorizer\n",
    "from sklearn.feature_extraction.text import TfidfVectorizer\n",
    "from sklearn.naive_bayes import MultinomialNB\n",
    "from sklearn.model_selection import cross_val_score, GridSearchCV, train_test_split\n",
    "from sklearn.metrics import classification_report, confusion_matrix, ConfusionMatrixDisplay\n",
    "\n",
    "import re"
   ]
  },
  {
   "cell_type": "markdown",
   "metadata": {},
   "source": [
    "## The data\n",
    "\n",
    "The dataset used in this project came from [Data World](https://data.world/crowdflower/brands-and-product-emotions). The dataset contains 9093 tweets that were sorted by human raters into a number of emotional sentiments. For the purposes of this project we sorted \"No emotion toward brand or product\" and \"I can't tell\" into a single category of 'neutral.'\n",
    "\n",
    "Although including neutral results in our data created a lot of noise, we opted to include that data because our client would have no way to scrub neutral sentiment out of their real world data. \n",
    "\n",
    "The dataset was helpfully well curated, with only one row throwing an error."
   ]
  },
  {
   "cell_type": "code",
   "execution_count": 2,
   "metadata": {},
   "outputs": [
    {
     "data": {
      "text/html": [
       "<div>\n",
       "<style scoped>\n",
       "    .dataframe tbody tr th:only-of-type {\n",
       "        vertical-align: middle;\n",
       "    }\n",
       "\n",
       "    .dataframe tbody tr th {\n",
       "        vertical-align: top;\n",
       "    }\n",
       "\n",
       "    .dataframe thead th {\n",
       "        text-align: right;\n",
       "    }\n",
       "</style>\n",
       "<table border=\"1\" class=\"dataframe\">\n",
       "  <thead>\n",
       "    <tr style=\"text-align: right;\">\n",
       "      <th></th>\n",
       "      <th>tweet_text</th>\n",
       "      <th>emotion_in_tweet_is_directed_at</th>\n",
       "      <th>is_there_an_emotion_directed_at_a_brand_or_product</th>\n",
       "      <th>target</th>\n",
       "    </tr>\n",
       "  </thead>\n",
       "  <tbody>\n",
       "    <tr>\n",
       "      <th>0</th>\n",
       "      <td>.@wesley83 I have a 3G iPhone. After 3 hrs twe...</td>\n",
       "      <td>iPhone</td>\n",
       "      <td>Negative emotion</td>\n",
       "      <td>2</td>\n",
       "    </tr>\n",
       "    <tr>\n",
       "      <th>1</th>\n",
       "      <td>@jessedee Know about @fludapp ? Awesome iPad/i...</td>\n",
       "      <td>iPad or iPhone App</td>\n",
       "      <td>Positive emotion</td>\n",
       "      <td>1</td>\n",
       "    </tr>\n",
       "    <tr>\n",
       "      <th>2</th>\n",
       "      <td>@swonderlin Can not wait for #iPad 2 also. The...</td>\n",
       "      <td>iPad</td>\n",
       "      <td>Positive emotion</td>\n",
       "      <td>1</td>\n",
       "    </tr>\n",
       "    <tr>\n",
       "      <th>3</th>\n",
       "      <td>@sxsw I hope this year's festival isn't as cra...</td>\n",
       "      <td>iPad or iPhone App</td>\n",
       "      <td>Negative emotion</td>\n",
       "      <td>2</td>\n",
       "    </tr>\n",
       "    <tr>\n",
       "      <th>4</th>\n",
       "      <td>@sxtxstate great stuff on Fri #SXSW: Marissa M...</td>\n",
       "      <td>Google</td>\n",
       "      <td>Positive emotion</td>\n",
       "      <td>1</td>\n",
       "    </tr>\n",
       "    <tr>\n",
       "      <th>...</th>\n",
       "      <td>...</td>\n",
       "      <td>...</td>\n",
       "      <td>...</td>\n",
       "      <td>...</td>\n",
       "    </tr>\n",
       "    <tr>\n",
       "      <th>9088</th>\n",
       "      <td>Ipad everywhere. #SXSW {link}</td>\n",
       "      <td>iPad</td>\n",
       "      <td>Positive emotion</td>\n",
       "      <td>1</td>\n",
       "    </tr>\n",
       "    <tr>\n",
       "      <th>9089</th>\n",
       "      <td>Wave, buzz... RT @mention We interrupt your re...</td>\n",
       "      <td>NaN</td>\n",
       "      <td>No emotion toward brand or product</td>\n",
       "      <td>0</td>\n",
       "    </tr>\n",
       "    <tr>\n",
       "      <th>9090</th>\n",
       "      <td>Google's Zeiger, a physician never reported po...</td>\n",
       "      <td>NaN</td>\n",
       "      <td>No emotion toward brand or product</td>\n",
       "      <td>0</td>\n",
       "    </tr>\n",
       "    <tr>\n",
       "      <th>9091</th>\n",
       "      <td>Some Verizon iPhone customers complained their...</td>\n",
       "      <td>NaN</td>\n",
       "      <td>No emotion toward brand or product</td>\n",
       "      <td>0</td>\n",
       "    </tr>\n",
       "    <tr>\n",
       "      <th>9092</th>\n",
       "      <td>Ï¡Ïàü_ÊÎÒ£Áââ_£â_ÛâRT @...</td>\n",
       "      <td>NaN</td>\n",
       "      <td>No emotion toward brand or product</td>\n",
       "      <td>0</td>\n",
       "    </tr>\n",
       "  </tbody>\n",
       "</table>\n",
       "<p>9093 rows × 4 columns</p>\n",
       "</div>"
      ],
      "text/plain": [
       "                                             tweet_text  \\\n",
       "0     .@wesley83 I have a 3G iPhone. After 3 hrs twe...   \n",
       "1     @jessedee Know about @fludapp ? Awesome iPad/i...   \n",
       "2     @swonderlin Can not wait for #iPad 2 also. The...   \n",
       "3     @sxsw I hope this year's festival isn't as cra...   \n",
       "4     @sxtxstate great stuff on Fri #SXSW: Marissa M...   \n",
       "...                                                 ...   \n",
       "9088                      Ipad everywhere. #SXSW {link}   \n",
       "9089  Wave, buzz... RT @mention We interrupt your re...   \n",
       "9090  Google's Zeiger, a physician never reported po...   \n",
       "9091  Some Verizon iPhone customers complained their...   \n",
       "9092  Ï¡Ïàü_ÊÎÒ£Áââ_£â_ÛâRT @...   \n",
       "\n",
       "     emotion_in_tweet_is_directed_at  \\\n",
       "0                             iPhone   \n",
       "1                 iPad or iPhone App   \n",
       "2                               iPad   \n",
       "3                 iPad or iPhone App   \n",
       "4                             Google   \n",
       "...                              ...   \n",
       "9088                            iPad   \n",
       "9089                             NaN   \n",
       "9090                             NaN   \n",
       "9091                             NaN   \n",
       "9092                             NaN   \n",
       "\n",
       "     is_there_an_emotion_directed_at_a_brand_or_product  target  \n",
       "0                                      Negative emotion       2  \n",
       "1                                      Positive emotion       1  \n",
       "2                                      Positive emotion       1  \n",
       "3                                      Negative emotion       2  \n",
       "4                                      Positive emotion       1  \n",
       "...                                                 ...     ...  \n",
       "9088                                   Positive emotion       1  \n",
       "9089                 No emotion toward brand or product       0  \n",
       "9090                 No emotion toward brand or product       0  \n",
       "9091                 No emotion toward brand or product       0  \n",
       "9092                 No emotion toward brand or product       0  \n",
       "\n",
       "[9093 rows x 4 columns]"
      ]
     },
     "metadata": {},
     "output_type": "display_data"
    }
   ],
   "source": [
    "df = pd.read_csv('data/judge-1377884607_tweet_product_company.csv', encoding='unicode_escape')\n",
    "df['target'] = df.is_there_an_emotion_directed_at_a_brand_or_product\n",
    "\n",
    "unique_emotions = df.is_there_an_emotion_directed_at_a_brand_or_product.value_counts().index\n",
    "for emotion in unique_emotions:\n",
    "    if emotion == \"Positive emotion\":\n",
    "        df.target.replace(to_replace=emotion, value=1, inplace=True)\n",
    "    elif emotion == \"Negative emotion\":\n",
    "        df.target.replace(to_replace=emotion, value=2, inplace=True)\n",
    "    else:\n",
    "        df.target.replace(to_replace=emotion, value=0, inplace=True)\n",
    "\n",
    "display(df)"
   ]
  },
  {
   "cell_type": "code",
   "execution_count": 3,
   "metadata": {},
   "outputs": [
    {
     "name": "stdout",
     "output_type": "stream",
     "text": [
      "<class 'pandas.core.frame.DataFrame'>\n",
      "RangeIndex: 9093 entries, 0 to 9092\n",
      "Data columns (total 4 columns):\n",
      " #   Column                                              Non-Null Count  Dtype \n",
      "---  ------                                              --------------  ----- \n",
      " 0   tweet_text                                          9092 non-null   object\n",
      " 1   emotion_in_tweet_is_directed_at                     3291 non-null   object\n",
      " 2   is_there_an_emotion_directed_at_a_brand_or_product  9093 non-null   object\n",
      " 3   target                                              9093 non-null   int64 \n",
      "dtypes: int64(1), object(3)\n",
      "memory usage: 284.3+ KB\n"
     ]
    },
    {
     "data": {
      "text/plain": [
       "None"
      ]
     },
     "metadata": {},
     "output_type": "display_data"
    },
    {
     "data": {
      "text/plain": [
       "tweet_text                                                                           NaN\n",
       "emotion_in_tweet_is_directed_at                                                      NaN\n",
       "is_there_an_emotion_directed_at_a_brand_or_product    No emotion toward brand or product\n",
       "target                                                                                 0\n",
       "Name: 6, dtype: object"
      ]
     },
     "metadata": {},
     "output_type": "display_data"
    }
   ],
   "source": [
    "display(df.info())\n",
    "display(df.iloc[6])"
   ]
  },
  {
   "cell_type": "code",
   "execution_count": 4,
   "metadata": {},
   "outputs": [
    {
     "name": "stdout",
     "output_type": "stream",
     "text": [
      "<class 'pandas.core.frame.DataFrame'>\n",
      "Int64Index: 9092 entries, 0 to 9092\n",
      "Data columns (total 4 columns):\n",
      " #   Column                                              Non-Null Count  Dtype \n",
      "---  ------                                              --------------  ----- \n",
      " 0   tweet_text                                          9092 non-null   object\n",
      " 1   emotion_in_tweet_is_directed_at                     3291 non-null   object\n",
      " 2   is_there_an_emotion_directed_at_a_brand_or_product  9092 non-null   object\n",
      " 3   target                                              9092 non-null   int64 \n",
      "dtypes: int64(1), object(3)\n",
      "memory usage: 355.2+ KB\n"
     ]
    }
   ],
   "source": [
    "df = df[df.tweet_text.notnull()]\n",
    "\n",
    "df.info()"
   ]
  },
  {
   "cell_type": "code",
   "execution_count": 5,
   "metadata": {
    "scrolled": true
   },
   "outputs": [
    {
     "data": {
      "text/plain": [
       "0    5544\n",
       "1    2978\n",
       "2     570\n",
       "Name: target, dtype: int64"
      ]
     },
     "execution_count": 5,
     "metadata": {},
     "output_type": "execute_result"
    }
   ],
   "source": [
    "df.target.value_counts()"
   ]
  },
  {
   "cell_type": "markdown",
   "metadata": {},
   "source": [
    "Now let's find very common words that begin with @ or #"
   ]
  },
  {
   "cell_type": "code",
   "execution_count": 6,
   "metadata": {},
   "outputs": [
    {
     "name": "stdout",
     "output_type": "stream",
     "text": [
      "tweet_text                                            @teachntech00 New iPad Apps For #SpeechTherapy...\n",
      "emotion_in_tweet_is_directed_at                                                                     NaN\n",
      "is_there_an_emotion_directed_at_a_brand_or_product                   No emotion toward brand or product\n",
      "target                                                                                                0\n",
      "Name: 5, dtype: object\n"
     ]
    },
    {
     "data": {
      "text/plain": [
       "['@teachntech00']"
      ]
     },
     "execution_count": 6,
     "metadata": {},
     "output_type": "execute_result"
    }
   ],
   "source": [
    "# This cell can be used to pull @~~~ strings out of particular tweets. As an example, here we're looking at tweet 5.\n",
    "tweet_num = 5\n",
    "print(df.iloc[tweet_num])\n",
    "re.findall('@[a-zA-Z0-9]+', df.tweet_text.iloc[tweet_num])"
   ]
  },
  {
   "cell_type": "code",
   "execution_count": 7,
   "metadata": {
    "scrolled": true
   },
   "outputs": [],
   "source": [
    "# This cell generates a list of hashtags that appear in the dataset. We've commented out the final lines because the list is quite long.\n",
    "# Uncommment that line if you'd like to see the resulting list or set. \n",
    "\n",
    "list_hashtags = []\n",
    "for num in range(0, df.shape[0]):\n",
    "    temp = []\n",
    "    temp = re.findall('#[a-zA-Z0-9]+', df.tweet_text.iloc[num])\n",
    "    temp = list(set(temp))\n",
    "    if len(temp) > 0:\n",
    "        list_hashtags.extend(temp)\n",
    "\n",
    "#display(list_hashtags)\n",
    "#display(set(list_hashtags))"
   ]
  },
  {
   "cell_type": "code",
   "execution_count": 8,
   "metadata": {
    "scrolled": true
   },
   "outputs": [],
   "source": [
    "list_ats = []\n",
    "for num in range(0, df.shape[0]):\n",
    "    temp = []\n",
    "    temp = re.findall('@[a-zA-Z0-9]+', df.tweet_text.iloc[num])\n",
    "    temp = list(set(temp))\n",
    "    if len(temp) > 0:\n",
    "        list_ats.extend(temp)\n",
    "\n",
    "#display(list_ats)\n",
    "#display(set(list_ats))"
   ]
  },
  {
   "cell_type": "markdown",
   "metadata": {},
   "source": [
    "Based on this dataset, we opted to add 'sxsw' and 'mention' to our stopwords list, as they appear so often that it is likely that they contain little informational value. Further time might allow a more systematic approach to culling overused hashtags and @'s."
   ]
  },
  {
   "cell_type": "markdown",
   "metadata": {},
   "source": [
    "## Iterative Model Building\n",
    "\n",
    "This section of the notebook displays a slightly condensed sample of the process used to arrive at our final model. Scroll down to the 'Final Model Analysis' to get directly to our results.  "
   ]
  },
  {
   "cell_type": "code",
   "execution_count": 9,
   "metadata": {},
   "outputs": [],
   "source": [
    "# We're creating this stopwords list to use in later models.\n",
    "\n",
    "nltk_sw = stopwords.words('english')\n",
    "nltk_sw.extend(['sxsw', 'mention'])\n",
    "\n",
    "#Uncomment this to display the full list of stopwords.\n",
    "#nltk_sw"
   ]
  },
  {
   "cell_type": "code",
   "execution_count": 10,
   "metadata": {},
   "outputs": [],
   "source": [
    "# Creating a train test split from our data.\n",
    "\n",
    "X = df.tweet_text\n",
    "y = df.target\n",
    "\n",
    "X_train, X_test, y_train, y_test = train_test_split(X, y, random_state=42)"
   ]
  },
  {
   "cell_type": "code",
   "execution_count": 11,
   "metadata": {},
   "outputs": [],
   "source": [
    "# This cell creates a dictionary and a function to add the cross validation scores of our models \n",
    "# into that dictionary.\n",
    "\n",
    "cvdict = {}\n",
    "def reportcrossval(model, modelname, xtrain, ytrain):\n",
    "    cvmean = cross_val_score(model, xtrain, ytrain).mean()\n",
    "    cvdict[modelname] = cvmean \n",
    "    print(f\"The cv mean of {modelname} is {cvmean}\") "
   ]
  },
  {
   "cell_type": "markdown",
   "metadata": {},
   "source": [
    "#### The Dummy Model\n",
    "\n",
    "This model was created to generate a baseline to compare our actual models to. We opted for the 'most frequent' strategy for simplicity. As you can see, the baseline accuracy we should expect if we simply assigned each tweet to the 'neutral' sentiment is around 61%."
   ]
  },
  {
   "cell_type": "code",
   "execution_count": 12,
   "metadata": {},
   "outputs": [],
   "source": [
    "pipeline_dummy = Pipeline([('dummy', DummyClassifier(strategy = 'most_frequent'))] ,  verbose = True)"
   ]
  },
  {
   "cell_type": "code",
   "execution_count": 13,
   "metadata": {},
   "outputs": [
    {
     "name": "stdout",
     "output_type": "stream",
     "text": [
      "[Pipeline] ............. (step 1 of 1) Processing dummy, total=   0.0s\n",
      "[Pipeline] ............. (step 1 of 1) Processing dummy, total=   0.0s\n",
      "[Pipeline] ............. (step 1 of 1) Processing dummy, total=   0.0s\n",
      "[Pipeline] ............. (step 1 of 1) Processing dummy, total=   0.0s\n",
      "[Pipeline] ............. (step 1 of 1) Processing dummy, total=   0.0s\n",
      "The cv mean of Dummy is 0.6137264056559728\n"
     ]
    }
   ],
   "source": [
    "reportcrossval(pipeline_dummy, 'Dummy', X_train, y_train)"
   ]
  },
  {
   "cell_type": "markdown",
   "metadata": {},
   "source": [
    "#### Count Vectorizer and Multinomial Naive Bayes\n",
    "\n",
    "Here we experimented with the Count Vectorizer and the Multinomial Naive Bayes model.\n",
    "\n",
    "A Count Vectorizer takes in the text we provides it, does some preprocessing, applies a basic tokenizer, and finally 'counts' the appearances of words or n-grams in a bag of words, then turns that count in to a vector that we can put into our model.   \n",
    "\n",
    "A Multinomial Naive Bayes takes that vectorized data and applies Bayes' theorum to generate predictions. It is called 'naive' because it assumes that the n-grams are appearing independently of each other, which is not actually true, but can provide a computationally quick and reasonably accurate estimate nonetheless. Using the default settings, we score around 67% with this model."
   ]
  },
  {
   "cell_type": "code",
   "execution_count": 14,
   "metadata": {},
   "outputs": [],
   "source": [
    "pipe_cv_mnnb = Pipeline(steps=[('cv', CountVectorizer()),\n",
    "                               ('mnnb', MultinomialNB())],\n",
    "                        verbose=True)"
   ]
  },
  {
   "cell_type": "code",
   "execution_count": 15,
   "metadata": {},
   "outputs": [
    {
     "name": "stdout",
     "output_type": "stream",
     "text": [
      "[Pipeline] ................ (step 1 of 2) Processing cv, total=   0.1s\n",
      "[Pipeline] .............. (step 2 of 2) Processing mnnb, total=   0.0s\n"
     ]
    },
    {
     "data": {
      "text/plain": [
       "Pipeline(steps=[('cv', CountVectorizer()), ('mnnb', MultinomialNB())],\n",
       "         verbose=True)"
      ]
     },
     "execution_count": 15,
     "metadata": {},
     "output_type": "execute_result"
    }
   ],
   "source": [
    "pipe_cv_mnnb.fit(X_train, y_train)"
   ]
  },
  {
   "cell_type": "code",
   "execution_count": 16,
   "metadata": {
    "scrolled": true
   },
   "outputs": [
    {
     "name": "stdout",
     "output_type": "stream",
     "text": [
      "[Pipeline] ................ (step 1 of 2) Processing cv, total=   0.1s\n",
      "[Pipeline] .............. (step 2 of 2) Processing mnnb, total=   0.0s\n",
      "[Pipeline] ................ (step 1 of 2) Processing cv, total=   0.1s\n",
      "[Pipeline] .............. (step 2 of 2) Processing mnnb, total=   0.0s\n",
      "[Pipeline] ................ (step 1 of 2) Processing cv, total=   0.1s\n",
      "[Pipeline] .............. (step 2 of 2) Processing mnnb, total=   0.0s\n",
      "[Pipeline] ................ (step 1 of 2) Processing cv, total=   0.1s\n",
      "[Pipeline] .............. (step 2 of 2) Processing mnnb, total=   0.0s\n",
      "[Pipeline] ................ (step 1 of 2) Processing cv, total=   0.1s\n",
      "[Pipeline] .............. (step 2 of 2) Processing mnnb, total=   0.0s\n",
      "The cv mean of Pipeline 1 is 0.6709166428204129\n"
     ]
    }
   ],
   "source": [
    "reportcrossval(pipe_cv_mnnb, 'Pipeline 1', X_train, y_train)"
   ]
  },
  {
   "cell_type": "markdown",
   "metadata": {},
   "source": [
    "#### Tuning\n",
    "\n",
    "In order to tune this model, we ran a GridSearch through a number of parameters, namely, whether or not to use stopwords in the text, and the range of n-grams we wanted to look at. \n",
    "\n",
    "Because grid searches take time to iterate through options, we have commented out the cells relating to the grid search and it's feedback, and have preserved the best scoring models. If you'd like to confirm, feel free to uncomment the grid search cells. "
   ]
  },
  {
   "cell_type": "code",
   "execution_count": 17,
   "metadata": {},
   "outputs": [],
   "source": [
    "param_grid = {'cv__ngram_range': [(1,1),(1,2),(1,3),(2,2),(2,3),(3,3),(1,4),(2,4),(3,4),(4,4)],\n",
    "              'cv__stop_words': [None, nltk_sw]\n",
    "             }"
   ]
  },
  {
   "cell_type": "code",
   "execution_count": 18,
   "metadata": {},
   "outputs": [],
   "source": [
    "# grid1 = GridSearchCV(pipe_cv_mnnb, param_grid, verbose=1)"
   ]
  },
  {
   "cell_type": "code",
   "execution_count": 19,
   "metadata": {
    "scrolled": true
   },
   "outputs": [],
   "source": [
    "# grid1.fit(X=X_train, y=y_train)"
   ]
  },
  {
   "cell_type": "code",
   "execution_count": 20,
   "metadata": {},
   "outputs": [],
   "source": [
    "# grid1.best_estimator_"
   ]
  },
  {
   "cell_type": "code",
   "execution_count": 21,
   "metadata": {},
   "outputs": [],
   "source": [
    "# grid1.best_score_"
   ]
  },
  {
   "cell_type": "code",
   "execution_count": 22,
   "metadata": {},
   "outputs": [],
   "source": [
    "# grid1.best_params_"
   ]
  },
  {
   "cell_type": "code",
   "execution_count": 23,
   "metadata": {},
   "outputs": [],
   "source": [
    "best_from_grid1 = Pipeline([('cv', CountVectorizer(ngram_range= (1, 2))),\\\n",
    "                        ('mnnb', MultinomialNB())],\n",
    "                       verbose = True)"
   ]
  },
  {
   "cell_type": "code",
   "execution_count": 24,
   "metadata": {},
   "outputs": [
    {
     "name": "stdout",
     "output_type": "stream",
     "text": [
      "[Pipeline] ................ (step 1 of 2) Processing cv, total=   0.3s\n",
      "[Pipeline] .............. (step 2 of 2) Processing mnnb, total=   0.0s\n"
     ]
    },
    {
     "data": {
      "text/plain": [
       "Pipeline(steps=[('cv', CountVectorizer(ngram_range=(1, 2))),\n",
       "                ('mnnb', MultinomialNB())],\n",
       "         verbose=True)"
      ]
     },
     "execution_count": 24,
     "metadata": {},
     "output_type": "execute_result"
    }
   ],
   "source": [
    "best_from_grid1.fit(X_train, y_train)"
   ]
  },
  {
   "cell_type": "code",
   "execution_count": 25,
   "metadata": {},
   "outputs": [
    {
     "name": "stdout",
     "output_type": "stream",
     "text": [
      "[Pipeline] ................ (step 1 of 2) Processing cv, total=   0.3s\n",
      "[Pipeline] .............. (step 2 of 2) Processing mnnb, total=   0.0s\n",
      "[Pipeline] ................ (step 1 of 2) Processing cv, total=   0.2s\n",
      "[Pipeline] .............. (step 2 of 2) Processing mnnb, total=   0.0s\n",
      "[Pipeline] ................ (step 1 of 2) Processing cv, total=   0.2s\n",
      "[Pipeline] .............. (step 2 of 2) Processing mnnb, total=   0.0s\n",
      "[Pipeline] ................ (step 1 of 2) Processing cv, total=   0.2s\n",
      "[Pipeline] .............. (step 2 of 2) Processing mnnb, total=   0.0s\n",
      "[Pipeline] ................ (step 1 of 2) Processing cv, total=   0.2s\n",
      "[Pipeline] .............. (step 2 of 2) Processing mnnb, total=   0.0s\n",
      "The cv mean of Best From CV/MNNB, Grid 1 is 0.6860228321603845\n"
     ]
    }
   ],
   "source": [
    "reportcrossval(best_from_grid1, 'Best From CV/MNNB, Grid 1', X_train, y_train)"
   ]
  },
  {
   "cell_type": "markdown",
   "metadata": {},
   "source": [
    "This is a promising model! It ran quickly and came out around 8% more accurate than our baseline. It's relatively simple, keeping in stopwords and adopting a simple monogram and bigram approach to n-grams.\n",
    "\n",
    "(During early modeling stages, we ran a grid checking a few other parameters, including the min/max df parameters. In this case, tweaking these parameters invariably dropped our accuracy to well below the default CountVectorizer and MNNB model. We've left those out of the main notebook for simplicity's sake.)"
   ]
  },
  {
   "cell_type": "markdown",
   "metadata": {},
   "source": [
    "#### Other Classifiers: the Random Forest\n",
    "\n",
    "We tried a few other models for classification. One of these was a Random Forest model. A Random Forest model is a little more complicated than a Naive Bayes model, potencially offering clearer results, at the cost of computaional demands.\n",
    "\n",
    "Here's an attempt with a Random Forest classifier, using default parameters."
   ]
  },
  {
   "cell_type": "code",
   "execution_count": 26,
   "metadata": {},
   "outputs": [],
   "source": [
    "pipeline_count_vec_rf =Pipeline([('countvec', CountVectorizer()), \n",
    "                              ('rf', RandomForestClassifier(random_state = 42))] ,  verbose = True)"
   ]
  },
  {
   "cell_type": "code",
   "execution_count": 27,
   "metadata": {},
   "outputs": [
    {
     "name": "stdout",
     "output_type": "stream",
     "text": [
      "[Pipeline] .......... (step 1 of 2) Processing countvec, total=   0.1s\n",
      "[Pipeline] ................ (step 2 of 2) Processing rf, total=   3.8s\n",
      "[Pipeline] .......... (step 1 of 2) Processing countvec, total=   0.1s\n",
      "[Pipeline] ................ (step 2 of 2) Processing rf, total=   3.8s\n",
      "[Pipeline] .......... (step 1 of 2) Processing countvec, total=   0.1s\n",
      "[Pipeline] ................ (step 2 of 2) Processing rf, total=   3.8s\n",
      "[Pipeline] .......... (step 1 of 2) Processing countvec, total=   0.1s\n",
      "[Pipeline] ................ (step 2 of 2) Processing rf, total=   3.8s\n",
      "[Pipeline] .......... (step 1 of 2) Processing countvec, total=   0.1s\n",
      "[Pipeline] ................ (step 2 of 2) Processing rf, total=   3.8s\n",
      "The cv mean of Default CV and RF is 0.6761965261207918\n"
     ]
    }
   ],
   "source": [
    "reportcrossval(pipeline_count_vec_rf, 'Default CV and RF', X_train, y_train)"
   ]
  },
  {
   "cell_type": "markdown",
   "metadata": {},
   "source": [
    "Not bad results, although considerably slower than the Naive Bayes.  We next tried a grid search through a number of parameters. \n",
    "\n",
    "We tried the same basic parameters tweaking the CountVectorizer as before. Additionally, we're testing parameters for the RandomForest model like n_estimators (how many trees in the forest) and max features (how many features the descion tree looks at when making a split). \n",
    "\n",
    "As before, we've commented out the actual GridSeach because it takes a long time to run. If you'd like to check our results, feel free to uncomment."
   ]
  },
  {
   "cell_type": "code",
   "execution_count": 28,
   "metadata": {},
   "outputs": [],
   "source": [
    "grid4dict = {\n",
    "   'countvec__ngram_range': [(1,1),(1,2),(1,3),(2,2),(2,3),(3,3)],\n",
    "   'countvec__stop_words': [None, 'english', nltk_sw],\n",
    "   'rf__n_estimators': [50, 100, 150],\n",
    "   'rf__max_features': ['auto', 'log2']\n",
    "}"
   ]
  },
  {
   "cell_type": "code",
   "execution_count": 29,
   "metadata": {},
   "outputs": [],
   "source": [
    "#grid4 = GridSearchCV(pipeline_count_vec_rf, grid4dict, random_state=42, verbose=1)"
   ]
  },
  {
   "cell_type": "code",
   "execution_count": 30,
   "metadata": {},
   "outputs": [],
   "source": [
    "#grid4.fit(X=X_train, y=y_train)"
   ]
  },
  {
   "cell_type": "code",
   "execution_count": 31,
   "metadata": {},
   "outputs": [],
   "source": [
    "#print(grid4.best_estimator_)\n",
    "#grid4.best_score_"
   ]
  },
  {
   "cell_type": "markdown",
   "metadata": {},
   "source": [
    "Despite a wider range of options, the best model here is not far off from  default."
   ]
  },
  {
   "cell_type": "code",
   "execution_count": 32,
   "metadata": {},
   "outputs": [],
   "source": [
    "bestfromgrid4 = Pipeline(steps=[\n",
    "                ('countvec', CountVectorizer(stop_words = nltk_sw)),\n",
    "                ('rf', RandomForestClassifier(random_state=42))])"
   ]
  },
  {
   "cell_type": "code",
   "execution_count": 33,
   "metadata": {},
   "outputs": [
    {
     "data": {
      "text/plain": [
       "Pipeline(steps=[('countvec',\n",
       "                 CountVectorizer(stop_words=['i', 'me', 'my', 'myself', 'we',\n",
       "                                             'our', 'ours', 'ourselves', 'you',\n",
       "                                             \"you're\", \"you've\", \"you'll\",\n",
       "                                             \"you'd\", 'your', 'yours',\n",
       "                                             'yourself', 'yourselves', 'he',\n",
       "                                             'him', 'his', 'himself', 'she',\n",
       "                                             \"she's\", 'her', 'hers', 'herself',\n",
       "                                             'it', \"it's\", 'its', 'itself', ...])),\n",
       "                ('rf', RandomForestClassifier(random_state=42))])"
      ]
     },
     "execution_count": 33,
     "metadata": {},
     "output_type": "execute_result"
    }
   ],
   "source": [
    "bestfromgrid4.fit(X_train, y_train)"
   ]
  },
  {
   "cell_type": "code",
   "execution_count": 34,
   "metadata": {},
   "outputs": [
    {
     "name": "stdout",
     "output_type": "stream",
     "text": [
      "The cv mean of Best From RandomForest, Grid 4 is 0.6838230959393954\n"
     ]
    }
   ],
   "source": [
    "reportcrossval(bestfromgrid4, 'Best From RandomForest, Grid 4', X_train, y_train)"
   ]
  },
  {
   "cell_type": "markdown",
   "metadata": {},
   "source": [
    "A pretty good result!"
   ]
  },
  {
   "cell_type": "markdown",
   "metadata": {},
   "source": [
    "#### Tf-idf\n",
    "\n",
    "Tf-idf is an alternate way to vectorize text data. Rather than simply counting the number of times a word appears in a document, it compares how often a word appears in a document in relation to how often that word appears in the whole dataset. That is, a word that appears many times in a document but also many times in the corpus as a whole will be given less importance than a word that appears many times in that document but rarely appears in the overall corpus. Below, we paired this vectorizer with the MNNB model we've used before."
   ]
  },
  {
   "cell_type": "code",
   "execution_count": 35,
   "metadata": {},
   "outputs": [],
   "source": [
    "pipeline_tfidf_mnnb = Pipeline([('Tfidf', TfidfVectorizer()), \n",
    "                              ('mnnb', MultinomialNB())] ,  verbose = True)"
   ]
  },
  {
   "cell_type": "code",
   "execution_count": 36,
   "metadata": {},
   "outputs": [
    {
     "name": "stdout",
     "output_type": "stream",
     "text": [
      "[Pipeline] ............. (step 1 of 2) Processing Tfidf, total=   0.1s\n",
      "[Pipeline] .............. (step 2 of 2) Processing mnnb, total=   0.0s\n",
      "[Pipeline] ............. (step 1 of 2) Processing Tfidf, total=   0.1s\n",
      "[Pipeline] .............. (step 2 of 2) Processing mnnb, total=   0.0s\n",
      "[Pipeline] ............. (step 1 of 2) Processing Tfidf, total=   0.1s\n",
      "[Pipeline] .............. (step 2 of 2) Processing mnnb, total=   0.0s\n",
      "[Pipeline] ............. (step 1 of 2) Processing Tfidf, total=   0.1s\n",
      "[Pipeline] .............. (step 2 of 2) Processing mnnb, total=   0.0s\n",
      "[Pipeline] ............. (step 1 of 2) Processing Tfidf, total=   0.1s\n",
      "[Pipeline] .............. (step 2 of 2) Processing mnnb, total=   0.0s\n",
      "The cv mean of Default Tfidf/Naive Bayes is 0.6495082651473914\n"
     ]
    }
   ],
   "source": [
    "reportcrossval(pipeline_tfidf_mnnb, 'Default Tfidf/Naive Bayes', X_train, y_train)"
   ]
  },
  {
   "cell_type": "markdown",
   "metadata": {},
   "source": [
    "Oooo, much worse than the basic CountVectorizer models."
   ]
  },
  {
   "cell_type": "code",
   "execution_count": 37,
   "metadata": {},
   "outputs": [],
   "source": [
    "grid2dict = {\n",
    "   'Tfidf__ngram_range': [(1,1),(1,2),(1,3),(2,2),(2,3),(3,3),(1,4),(2,4),(3,4),(4,4)],\n",
    "   'Tfidf__stop_words': [None, 'english', nltk_sw]\n",
    "    }"
   ]
  },
  {
   "cell_type": "code",
   "execution_count": 38,
   "metadata": {},
   "outputs": [],
   "source": [
    "#grid2 = GridSearchCV(pipeline_tfidf_mnnb, grid2dict, verbose=1)\n",
    "#grid2.fit(X=X_train, y=y_train)"
   ]
  },
  {
   "cell_type": "code",
   "execution_count": 39,
   "metadata": {},
   "outputs": [],
   "source": [
    "#grid2.best_estimator_"
   ]
  },
  {
   "cell_type": "code",
   "execution_count": 40,
   "metadata": {},
   "outputs": [],
   "source": [
    "#grid2.best_score_"
   ]
  },
  {
   "cell_type": "code",
   "execution_count": 41,
   "metadata": {},
   "outputs": [],
   "source": [
    "#grid2.best_params_"
   ]
  },
  {
   "cell_type": "code",
   "execution_count": 42,
   "metadata": {},
   "outputs": [],
   "source": [
    "bestfromgrid2 = Pipeline(steps=[('Tfidf',\n",
    "                 TfidfVectorizer(ngram_range=(2, 2),\n",
    "                                 stop_words= nltk_sw)),\n",
    "                ('mnnb', MultinomialNB())],\n",
    "         verbose=True)"
   ]
  },
  {
   "cell_type": "code",
   "execution_count": 43,
   "metadata": {},
   "outputs": [
    {
     "name": "stdout",
     "output_type": "stream",
     "text": [
      "[Pipeline] ............. (step 1 of 2) Processing Tfidf, total=   0.1s\n",
      "[Pipeline] .............. (step 2 of 2) Processing mnnb, total=   0.0s\n",
      "[Pipeline] ............. (step 1 of 2) Processing Tfidf, total=   0.1s\n",
      "[Pipeline] .............. (step 2 of 2) Processing mnnb, total=   0.0s\n",
      "[Pipeline] ............. (step 1 of 2) Processing Tfidf, total=   0.1s\n",
      "[Pipeline] .............. (step 2 of 2) Processing mnnb, total=   0.0s\n",
      "[Pipeline] ............. (step 1 of 2) Processing Tfidf, total=   0.1s\n",
      "[Pipeline] .............. (step 2 of 2) Processing mnnb, total=   0.0s\n",
      "[Pipeline] ............. (step 1 of 2) Processing Tfidf, total=   0.1s\n",
      "[Pipeline] .............. (step 2 of 2) Processing mnnb, total=   0.0s\n",
      "The cv mean of Best from TF-IDF, Grid 2 is 0.6556678062665803\n"
     ]
    }
   ],
   "source": [
    "reportcrossval(bestfromgrid2, 'Best from TF-IDF, Grid 2', X_train, y_train)"
   ]
  },
  {
   "cell_type": "markdown",
   "metadata": {},
   "source": [
    "Still not great. TF-IDF might require more tweaking if it is to compete with our other models."
   ]
  },
  {
   "cell_type": "markdown",
   "metadata": {},
   "source": [
    "#### Model Selction"
   ]
  },
  {
   "cell_type": "code",
   "execution_count": 44,
   "metadata": {},
   "outputs": [
    {
     "data": {
      "text/plain": [
       "{'Dummy': 0.6137264056559728,\n",
       " 'Pipeline 1': 0.6709166428204129,\n",
       " 'Best From CV/MNNB, Grid 1': 0.6860228321603845,\n",
       " 'Default CV and RF': 0.6761965261207918,\n",
       " 'Best From RandomForest, Grid 4': 0.6838230959393954,\n",
       " 'Default Tfidf/Naive Bayes': 0.6495082651473914,\n",
       " 'Best from TF-IDF, Grid 2': 0.6556678062665803}"
      ]
     },
     "execution_count": 44,
     "metadata": {},
     "output_type": "execute_result"
    }
   ],
   "source": [
    "cvdict"
   ]
  },
  {
   "cell_type": "markdown",
   "metadata": {},
   "source": [
    "Although very close in accuracy to our Naive Bayes Model, the Random Forest model took a fairly long time to run.  In order to increase usability for our client, we opted to use the Best from Grid 1 model."
   ]
  },
  {
   "cell_type": "code",
   "execution_count": 45,
   "metadata": {},
   "outputs": [
    {
     "name": "stdout",
     "output_type": "stream",
     "text": [
      "[Pipeline] ................ (step 1 of 2) Processing cv, total=   0.3s\n",
      "[Pipeline] .............. (step 2 of 2) Processing mnnb, total=   0.0s\n"
     ]
    },
    {
     "data": {
      "text/plain": [
       "Pipeline(steps=[('cv', CountVectorizer(ngram_range=(1, 2))),\n",
       "                ('mnnb', MultinomialNB())],\n",
       "         verbose=True)"
      ]
     },
     "execution_count": 45,
     "metadata": {},
     "output_type": "execute_result"
    }
   ],
   "source": [
    "final_model = Pipeline([('cv', CountVectorizer(ngram_range= (1, 2))),\\\n",
    "                        ('mnnb', MultinomialNB())],\n",
    "                       verbose = True)\n",
    "\n",
    "final_model.fit(X_train, y_train)"
   ]
  },
  {
   "cell_type": "markdown",
   "metadata": {},
   "source": [
    "## Final Model and Analysis"
   ]
  },
  {
   "cell_type": "code",
   "execution_count": 46,
   "metadata": {},
   "outputs": [
    {
     "data": {
      "text/plain": [
       "0.6704795424549054"
      ]
     },
     "execution_count": 46,
     "metadata": {},
     "output_type": "execute_result"
    }
   ],
   "source": [
    "final_model.score(X_test, y_test)"
   ]
  },
  {
   "cell_type": "code",
   "execution_count": 47,
   "metadata": {},
   "outputs": [
    {
     "name": "stdout",
     "output_type": "stream",
     "text": [
      "              precision    recall  f1-score   support\n",
      "\n",
      "           0       0.70      0.84      0.76      1359\n",
      "           1       0.60      0.48      0.53       763\n",
      "           2       0.78      0.14      0.24       151\n",
      "\n",
      "    accuracy                           0.67      2273\n",
      "   macro avg       0.69      0.48      0.51      2273\n",
      "weighted avg       0.67      0.67      0.65      2273\n",
      "\n"
     ]
    }
   ],
   "source": [
    "y_pred = final_model.predict(X_test)\n",
    "report = classification_report(y_true = y_test, y_pred = y_pred )\n",
    "print(report)"
   ]
  },
  {
   "cell_type": "code",
   "execution_count": 48,
   "metadata": {},
   "outputs": [
    {
     "data": {
      "text/plain": [
       "<sklearn.metrics._plot.confusion_matrix.ConfusionMatrixDisplay at 0x1d0c5c276d0>"
      ]
     },
     "execution_count": 48,
     "metadata": {},
     "output_type": "execute_result"
    },
    {
     "data": {
      "image/png": "[encoded data removed]",
      "text/plain": [
       "<Figure size 432x288 with 2 Axes>"
      ]
     },
     "metadata": {
      "needs_background": "light"
     },
     "output_type": "display_data"
    }
   ],
   "source": [
    "conmat = confusion_matrix(y_true = y_test, y_pred = y_pred)\n",
    "disp = ConfusionMatrixDisplay(conmat, display_labels = ['Neutral','Positive','Negative'])\n",
    "disp.plot()"
   ]
  },
  {
   "cell_type": "markdown",
   "metadata": {},
   "source": [
    "Our final accuracy score marked against the test data shows a slight dip in accuracy, indicating a possibilty of minor overfitting, but it's fairly minor.\n",
    "\n",
    "More troublesome is the confusion matrix, and our poor f1-score on negative tweets. The fact of the matter is that negative tweets make up a fairly small section of the dataset. While the model overall beats baseline performance, it doesn't do as well on this micro scale. \n",
    "\n",
    "We could tweak the thresholds here, and try to pull in more of the lower left corner (that is, tweets that were negative that our model labeled neutral), but the trade off there would be an increase in the top or middle right columns (things our model flags as negative but is in fact neutral or positive). Further refinement might help there.\n",
    "\n",
    "As is, the model does well enough to get the gist from a large dataset, and I would trust it to \n",
    "\n",
    "There are some ways to improve this model. It is possible that if we had more time to do hyperparameter tweaking or try different classifiers we might find a more suitable combination, but there is no guarentee. \n",
    "\n",
    "Additional preprocessing might help, although our gridsearches often found that the defaults worked very well. \n",
    "\n",
    "Additional human labeled data, especially of negative tweets, might help the model learn to classify that better.\n",
    "\n",
    "Finally, this is a general model based on Apple and Google products. Our clients, if they existed, might want a more specific model based on tweets that were specifically about their product, which might pick up on domain/product specific praise or condemnation."
   ]
  }
 ],
 "metadata": {
  "kernelspec": {
   "display_name": "Python (learn-env)",
   "language": "python",
   "name": "learn-env"
  },
  "language_info": {
   "codemirror_mode": {
    "name": "ipython",
    "version": 3
   },
   "file_extension": ".py",
   "mimetype": "text/x-python",
   "name": "python",
   "nbconvert_exporter": "python",
   "pygments_lexer": "ipython3",
   "version": "3.8.5"
  }
 },
 "nbformat": 4,
 "nbformat_minor": 4
}
