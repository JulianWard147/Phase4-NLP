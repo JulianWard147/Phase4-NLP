{
 "cells": [
  {
   "cell_type": "code",
   "execution_count": 1,
   "metadata": {},
   "outputs": [],
   "source": [
    "import pandas as pd\n",
    "\n",
    "from nltk import word_tokenize          \n",
    "from nltk.stem import WordNetLemmatizer\n",
    "from nltk.tokenize import RegexpTokenizer\n",
    "from nltk import FreqDist\n",
    "from nltk.corpus import stopwords\n",
    "\n",
    "from sklearn.ensemble import RandomForestClassifier\n",
    "from sklearn.dummy import DummyClassifier\n",
    "from sklearn.pipeline import Pipeline\n",
    "from sklearn.feature_extraction.text import CountVectorizer\n",
    "from sklearn.feature_extraction.text import TfidfVectorizer\n",
    "from sklearn.naive_bayes import MultinomialNB\n",
    "from sklearn.model_selection import cross_val_score, GridSearchCV, train_test_split"
   ]
  },
  {
   "cell_type": "code",
   "execution_count": 2,
   "metadata": {},
   "outputs": [
    {
     "data": {
      "text/html": [
       "<div>\n",
       "<style scoped>\n",
       "    .dataframe tbody tr th:only-of-type {\n",
       "        vertical-align: middle;\n",
       "    }\n",
       "\n",
       "    .dataframe tbody tr th {\n",
       "        vertical-align: top;\n",
       "    }\n",
       "\n",
       "    .dataframe thead th {\n",
       "        text-align: right;\n",
       "    }\n",
       "</style>\n",
       "<table border=\"1\" class=\"dataframe\">\n",
       "  <thead>\n",
       "    <tr style=\"text-align: right;\">\n",
       "      <th></th>\n",
       "      <th>tweet_text</th>\n",
       "      <th>emotion_in_tweet_is_directed_at</th>\n",
       "      <th>is_there_an_emotion_directed_at_a_brand_or_product</th>\n",
       "      <th>target</th>\n",
       "    </tr>\n",
       "  </thead>\n",
       "  <tbody>\n",
       "    <tr>\n",
       "      <th>0</th>\n",
       "      <td>.@wesley83 I have a 3G iPhone. After 3 hrs twe...</td>\n",
       "      <td>iPhone</td>\n",
       "      <td>Negative emotion</td>\n",
       "      <td>2</td>\n",
       "    </tr>\n",
       "    <tr>\n",
       "      <th>1</th>\n",
       "      <td>@jessedee Know about @fludapp ? Awesome iPad/i...</td>\n",
       "      <td>iPad or iPhone App</td>\n",
       "      <td>Positive emotion</td>\n",
       "      <td>1</td>\n",
       "    </tr>\n",
       "    <tr>\n",
       "      <th>2</th>\n",
       "      <td>@swonderlin Can not wait for #iPad 2 also. The...</td>\n",
       "      <td>iPad</td>\n",
       "      <td>Positive emotion</td>\n",
       "      <td>1</td>\n",
       "    </tr>\n",
       "    <tr>\n",
       "      <th>3</th>\n",
       "      <td>@sxsw I hope this year's festival isn't as cra...</td>\n",
       "      <td>iPad or iPhone App</td>\n",
       "      <td>Negative emotion</td>\n",
       "      <td>2</td>\n",
       "    </tr>\n",
       "    <tr>\n",
       "      <th>4</th>\n",
       "      <td>@sxtxstate great stuff on Fri #SXSW: Marissa M...</td>\n",
       "      <td>Google</td>\n",
       "      <td>Positive emotion</td>\n",
       "      <td>1</td>\n",
       "    </tr>\n",
       "    <tr>\n",
       "      <th>...</th>\n",
       "      <td>...</td>\n",
       "      <td>...</td>\n",
       "      <td>...</td>\n",
       "      <td>...</td>\n",
       "    </tr>\n",
       "    <tr>\n",
       "      <th>9088</th>\n",
       "      <td>Ipad everywhere. #SXSW {link}</td>\n",
       "      <td>iPad</td>\n",
       "      <td>Positive emotion</td>\n",
       "      <td>1</td>\n",
       "    </tr>\n",
       "    <tr>\n",
       "      <th>9089</th>\n",
       "      <td>Wave, buzz... RT @mention We interrupt your re...</td>\n",
       "      <td>NaN</td>\n",
       "      <td>No emotion toward brand or product</td>\n",
       "      <td>0</td>\n",
       "    </tr>\n",
       "    <tr>\n",
       "      <th>9090</th>\n",
       "      <td>Google's Zeiger, a physician never reported po...</td>\n",
       "      <td>NaN</td>\n",
       "      <td>No emotion toward brand or product</td>\n",
       "      <td>0</td>\n",
       "    </tr>\n",
       "    <tr>\n",
       "      <th>9091</th>\n",
       "      <td>Some Verizon iPhone customers complained their...</td>\n",
       "      <td>NaN</td>\n",
       "      <td>No emotion toward brand or product</td>\n",
       "      <td>0</td>\n",
       "    </tr>\n",
       "    <tr>\n",
       "      <th>9092</th>\n",
       "      <td>Ï¡Ïàü_ÊÎÒ£Áââ_£â_ÛâRT @...</td>\n",
       "      <td>NaN</td>\n",
       "      <td>No emotion toward brand or product</td>\n",
       "      <td>0</td>\n",
       "    </tr>\n",
       "  </tbody>\n",
       "</table>\n",
       "<p>9093 rows × 4 columns</p>\n",
       "</div>"
      ],
      "text/plain": [
       "                                             tweet_text  \\\n",
       "0     .@wesley83 I have a 3G iPhone. After 3 hrs twe...   \n",
       "1     @jessedee Know about @fludapp ? Awesome iPad/i...   \n",
       "2     @swonderlin Can not wait for #iPad 2 also. The...   \n",
       "3     @sxsw I hope this year's festival isn't as cra...   \n",
       "4     @sxtxstate great stuff on Fri #SXSW: Marissa M...   \n",
       "...                                                 ...   \n",
       "9088                      Ipad everywhere. #SXSW {link}   \n",
       "9089  Wave, buzz... RT @mention We interrupt your re...   \n",
       "9090  Google's Zeiger, a physician never reported po...   \n",
       "9091  Some Verizon iPhone customers complained their...   \n",
       "9092  Ï¡Ïàü_ÊÎÒ£Áââ_£â_ÛâRT @...   \n",
       "\n",
       "     emotion_in_tweet_is_directed_at  \\\n",
       "0                             iPhone   \n",
       "1                 iPad or iPhone App   \n",
       "2                               iPad   \n",
       "3                 iPad or iPhone App   \n",
       "4                             Google   \n",
       "...                              ...   \n",
       "9088                            iPad   \n",
       "9089                             NaN   \n",
       "9090                             NaN   \n",
       "9091                             NaN   \n",
       "9092                             NaN   \n",
       "\n",
       "     is_there_an_emotion_directed_at_a_brand_or_product  target  \n",
       "0                                      Negative emotion       2  \n",
       "1                                      Positive emotion       1  \n",
       "2                                      Positive emotion       1  \n",
       "3                                      Negative emotion       2  \n",
       "4                                      Positive emotion       1  \n",
       "...                                                 ...     ...  \n",
       "9088                                   Positive emotion       1  \n",
       "9089                 No emotion toward brand or product       0  \n",
       "9090                 No emotion toward brand or product       0  \n",
       "9091                 No emotion toward brand or product       0  \n",
       "9092                 No emotion toward brand or product       0  \n",
       "\n",
       "[9093 rows x 4 columns]"
      ]
     },
     "metadata": {},
     "output_type": "display_data"
    }
   ],
   "source": [
    "df = pd.read_csv('data/judge-1377884607_tweet_product_company.csv', encoding='unicode_escape')\n",
    "\n",
    "df['target'] = df.is_there_an_emotion_directed_at_a_brand_or_product\n",
    "\n",
    "unique_emotions = df.is_there_an_emotion_directed_at_a_brand_or_product.value_counts().index\n",
    "\n",
    "for emotion in unique_emotions:\n",
    "    if emotion == \"Positive emotion\":\n",
    "        df.target.replace(to_replace=emotion, value=1, inplace=True)\n",
    "    elif emotion == \"Negative emotion\":\n",
    "        df.target.replace(to_replace=emotion, value=2, inplace=True)\n",
    "    else:\n",
    "        df.target.replace(to_replace=emotion, value=0, inplace=True)\n",
    "\n",
    "display(df)"
   ]
  },
  {
   "cell_type": "code",
   "execution_count": 3,
   "metadata": {},
   "outputs": [],
   "source": [
    "df.tweet_text.dropna(inplace=True)"
   ]
  },
  {
   "cell_type": "code",
   "execution_count": 4,
   "metadata": {},
   "outputs": [],
   "source": [
    "df.tweet_text = df.tweet_text.map(str)"
   ]
  },
  {
   "cell_type": "code",
   "execution_count": 5,
   "metadata": {},
   "outputs": [],
   "source": [
    "nltk_sw = stopwords.words('english')\n",
    "nltk_sw.extend(['sxsw', 'mention'])\n"
   ]
  },
  {
   "cell_type": "code",
   "execution_count": 6,
   "metadata": {},
   "outputs": [],
   "source": [
    "X = df.tweet_text\n",
    "y = df.target\n",
    "\n",
    "X_train, X_test, y_train, y_test = train_test_split(X, y, random_state =42)"
   ]
  },
  {
   "cell_type": "code",
   "execution_count": 7,
   "metadata": {},
   "outputs": [],
   "source": [
    "cvdict = {}\n",
    "def reportcrossval(model, modelname, xtrain, ytrain):\n",
    "    cvmean = cross_val_score(model, xtrain, ytrain).mean()\n",
    "    cvdict[modelname] = cvmean \n",
    "    print(f\"The cv mean of {modelname} is {cvmean}\") "
   ]
  },
  {
   "cell_type": "code",
   "execution_count": 8,
   "metadata": {},
   "outputs": [],
   "source": [
    "pipeline_dummy = Pipeline([('dummy', DummyClassifier(strategy = 'most_frequent'))] ,  verbose = True)"
   ]
  },
  {
   "cell_type": "code",
   "execution_count": 9,
   "metadata": {},
   "outputs": [
    {
     "name": "stdout",
     "output_type": "stream",
     "text": [
      "[Pipeline] ............. (step 1 of 1) Processing dummy, total=   0.0s\n"
     ]
    },
    {
     "data": {
      "text/plain": [
       "Pipeline(steps=[('dummy', DummyClassifier(strategy='most_frequent'))],\n",
       "         verbose=True)"
      ]
     },
     "execution_count": 9,
     "metadata": {},
     "output_type": "execute_result"
    }
   ],
   "source": [
    "pipeline_dummy.fit(X_train, y_train)"
   ]
  },
  {
   "cell_type": "code",
   "execution_count": 10,
   "metadata": {},
   "outputs": [
    {
     "name": "stdout",
     "output_type": "stream",
     "text": [
      "[Pipeline] ............. (step 1 of 1) Processing dummy, total=   0.0s\n",
      "[Pipeline] ............. (step 1 of 1) Processing dummy, total=   0.0s\n",
      "[Pipeline] ............. (step 1 of 1) Processing dummy, total=   0.0s\n",
      "[Pipeline] ............. (step 1 of 1) Processing dummy, total=   0.0s\n",
      "[Pipeline] ............. (step 1 of 1) Processing dummy, total=   0.0s\n",
      "The cv mean of Dummy is 0.6094735607799769\n"
     ]
    }
   ],
   "source": [
    "reportcrossval(pipeline_dummy, 'Dummy', X_train, y_train)"
   ]
  },
  {
   "cell_type": "code",
   "execution_count": null,
   "metadata": {},
   "outputs": [],
   "source": []
  },
  {
   "cell_type": "code",
   "execution_count": 11,
   "metadata": {},
   "outputs": [],
   "source": [
    "pipeline_tfidf_mnnb = Pipeline([('Tfidf', TfidfVectorizer()), \n",
    "                              ('mnnb', MultinomialNB())] ,  verbose = True)"
   ]
  },
  {
   "cell_type": "code",
   "execution_count": 12,
   "metadata": {},
   "outputs": [
    {
     "name": "stdout",
     "output_type": "stream",
     "text": [
      "[Pipeline] ............. (step 1 of 2) Processing Tfidf, total=   0.1s\n",
      "[Pipeline] .............. (step 2 of 2) Processing mnnb, total=   0.0s\n"
     ]
    },
    {
     "data": {
      "text/plain": [
       "Pipeline(steps=[('Tfidf', TfidfVectorizer()), ('mnnb', MultinomialNB())],\n",
       "         verbose=True)"
      ]
     },
     "execution_count": 12,
     "metadata": {},
     "output_type": "execute_result"
    }
   ],
   "source": [
    "pipeline_tfidf_mnnb.fit(X_train, y_train)"
   ]
  },
  {
   "cell_type": "code",
   "execution_count": null,
   "metadata": {},
   "outputs": [],
   "source": []
  },
  {
   "cell_type": "code",
   "execution_count": 13,
   "metadata": {},
   "outputs": [
    {
     "name": "stdout",
     "output_type": "stream",
     "text": [
      "[Pipeline] ............. (step 1 of 2) Processing Tfidf, total=   0.1s\n",
      "[Pipeline] .............. (step 2 of 2) Processing mnnb, total=   0.0s\n",
      "[Pipeline] ............. (step 1 of 2) Processing Tfidf, total=   0.1s\n",
      "[Pipeline] .............. (step 2 of 2) Processing mnnb, total=   0.0s\n",
      "[Pipeline] ............. (step 1 of 2) Processing Tfidf, total=   0.1s\n",
      "[Pipeline] .............. (step 2 of 2) Processing mnnb, total=   0.0s\n",
      "[Pipeline] ............. (step 1 of 2) Processing Tfidf, total=   0.1s\n",
      "[Pipeline] .............. (step 2 of 2) Processing mnnb, total=   0.0s\n",
      "[Pipeline] ............. (step 1 of 2) Processing Tfidf, total=   0.1s\n",
      "[Pipeline] .............. (step 2 of 2) Processing mnnb, total=   0.0s\n",
      "The cv mean of Default Tfidf/Naive Bayes is 0.6473088516576553\n"
     ]
    }
   ],
   "source": [
    "reportcrossval(pipeline_tfidf_mnnb, 'Default Tfidf/Naive Bayes', X_train, y_train)"
   ]
  },
  {
   "cell_type": "markdown",
   "metadata": {},
   "source": [
    "Default Tfidf is worse than CountVec, going to do some gridsearching."
   ]
  },
  {
   "cell_type": "code",
   "execution_count": 14,
   "metadata": {},
   "outputs": [],
   "source": [
    "grid2dict = {\n",
    "   'Tfidf__ngram_range': [(1,1),(1,2),(1,3),(2,2),(2,3),(3,3),(1,4),(2,4),(3,4),(4,4)],\n",
    "   'Tfidf__stop_words': [None, 'english', nltk_sw]\n",
    "    }"
   ]
  },
  {
   "cell_type": "code",
   "execution_count": 15,
   "metadata": {},
   "outputs": [],
   "source": [
    "#tfgrid1 = GridSearchCV(pipeline_tfidf_mnnb, grid2dict, verbose=1)"
   ]
  },
  {
   "cell_type": "code",
   "execution_count": 16,
   "metadata": {},
   "outputs": [
    {
     "name": "stdout",
     "output_type": "stream",
     "text": [
      "Fitting 5 folds for each of 30 candidates, totalling 150 fits\n",
      "[Pipeline] ............. (step 1 of 2) Processing Tfidf, total=   0.1s\n",
      "[Pipeline] .............. (step 2 of 2) Processing mnnb, total=   0.0s\n"
     ]
    },
    {
     "name": "stderr",
     "output_type": "stream",
     "text": [
      "[Parallel(n_jobs=1)]: Using backend SequentialBackend with 1 concurrent workers.\n"
     ]
    },
    {
     "name": "stdout",
     "output_type": "stream",
     "text": [
      "[Pipeline] ............. (step 1 of 2) Processing Tfidf, total=   0.1s\n",
      "[Pipeline] .............. (step 2 of 2) Processing mnnb, total=   0.0s\n",
      "[Pipeline] ............. (step 1 of 2) Processing Tfidf, total=   0.1s\n",
      "[Pipeline] .............. (step 2 of 2) Processing mnnb, total=   0.0s\n",
      "[Pipeline] ............. (step 1 of 2) Processing Tfidf, total=   0.1s\n",
      "[Pipeline] .............. (step 2 of 2) Processing mnnb, total=   0.0s\n",
      "[Pipeline] ............. (step 1 of 2) Processing Tfidf, total=   0.1s\n",
      "[Pipeline] .............. (step 2 of 2) Processing mnnb, total=   0.0s\n",
      "[Pipeline] ............. (step 1 of 2) Processing Tfidf, total=   0.1s\n",
      "[Pipeline] .............. (step 2 of 2) Processing mnnb, total=   0.0s\n",
      "[Pipeline] ............. (step 1 of 2) Processing Tfidf, total=   0.1s\n",
      "[Pipeline] .............. (step 2 of 2) Processing mnnb, total=   0.0s\n",
      "[Pipeline] ............. (step 1 of 2) Processing Tfidf, total=   0.1s\n",
      "[Pipeline] .............. (step 2 of 2) Processing mnnb, total=   0.0s\n",
      "[Pipeline] ............. (step 1 of 2) Processing Tfidf, total=   0.1s\n",
      "[Pipeline] .............. (step 2 of 2) Processing mnnb, total=   0.0s\n",
      "[Pipeline] ............. (step 1 of 2) Processing Tfidf, total=   0.1s\n",
      "[Pipeline] .............. (step 2 of 2) Processing mnnb, total=   0.0s\n",
      "[Pipeline] ............. (step 1 of 2) Processing Tfidf, total=   0.1s\n",
      "[Pipeline] .............. (step 2 of 2) Processing mnnb, total=   0.0s\n",
      "[Pipeline] ............. (step 1 of 2) Processing Tfidf, total=   0.1s\n",
      "[Pipeline] .............. (step 2 of 2) Processing mnnb, total=   0.0s\n",
      "[Pipeline] ............. (step 1 of 2) Processing Tfidf, total=   0.1s\n",
      "[Pipeline] .............. (step 2 of 2) Processing mnnb, total=   0.0s\n",
      "[Pipeline] ............. (step 1 of 2) Processing Tfidf, total=   0.1s\n",
      "[Pipeline] .............. (step 2 of 2) Processing mnnb, total=   0.0s\n",
      "[Pipeline] ............. (step 1 of 2) Processing Tfidf, total=   0.1s\n",
      "[Pipeline] .............. (step 2 of 2) Processing mnnb, total=   0.0s\n",
      "[Pipeline] ............. (step 1 of 2) Processing Tfidf, total=   0.2s\n",
      "[Pipeline] .............. (step 2 of 2) Processing mnnb, total=   0.0s\n",
      "[Pipeline] ............. (step 1 of 2) Processing Tfidf, total=   0.2s\n",
      "[Pipeline] .............. (step 2 of 2) Processing mnnb, total=   0.0s\n",
      "[Pipeline] ............. (step 1 of 2) Processing Tfidf, total=   0.2s\n",
      "[Pipeline] .............. (step 2 of 2) Processing mnnb, total=   0.0s\n",
      "[Pipeline] ............. (step 1 of 2) Processing Tfidf, total=   0.2s\n",
      "[Pipeline] .............. (step 2 of 2) Processing mnnb, total=   0.0s\n",
      "[Pipeline] ............. (step 1 of 2) Processing Tfidf, total=   0.2s\n",
      "[Pipeline] .............. (step 2 of 2) Processing mnnb, total=   0.0s\n",
      "[Pipeline] ............. (step 1 of 2) Processing Tfidf, total=   0.2s\n",
      "[Pipeline] .............. (step 2 of 2) Processing mnnb, total=   0.0s\n",
      "[Pipeline] ............. (step 1 of 2) Processing Tfidf, total=   0.2s\n",
      "[Pipeline] .............. (step 2 of 2) Processing mnnb, total=   0.0s\n",
      "[Pipeline] ............. (step 1 of 2) Processing Tfidf, total=   0.2s\n",
      "[Pipeline] .............. (step 2 of 2) Processing mnnb, total=   0.0s\n",
      "[Pipeline] ............. (step 1 of 2) Processing Tfidf, total=   0.2s\n",
      "[Pipeline] .............. (step 2 of 2) Processing mnnb, total=   0.0s\n",
      "[Pipeline] ............. (step 1 of 2) Processing Tfidf, total=   0.2s\n",
      "[Pipeline] .............. (step 2 of 2) Processing mnnb, total=   0.0s\n",
      "[Pipeline] ............. (step 1 of 2) Processing Tfidf, total=   0.2s\n",
      "[Pipeline] .............. (step 2 of 2) Processing mnnb, total=   0.0s\n",
      "[Pipeline] ............. (step 1 of 2) Processing Tfidf, total=   0.2s\n",
      "[Pipeline] .............. (step 2 of 2) Processing mnnb, total=   0.0s\n",
      "[Pipeline] ............. (step 1 of 2) Processing Tfidf, total=   0.2s\n",
      "[Pipeline] .............. (step 2 of 2) Processing mnnb, total=   0.0s\n",
      "[Pipeline] ............. (step 1 of 2) Processing Tfidf, total=   0.2s\n",
      "[Pipeline] .............. (step 2 of 2) Processing mnnb, total=   0.0s\n",
      "[Pipeline] ............. (step 1 of 2) Processing Tfidf, total=   0.2s\n",
      "[Pipeline] .............. (step 2 of 2) Processing mnnb, total=   0.0s\n",
      "[Pipeline] ............. (step 1 of 2) Processing Tfidf, total=   0.4s\n",
      "[Pipeline] .............. (step 2 of 2) Processing mnnb, total=   0.0s\n",
      "[Pipeline] ............. (step 1 of 2) Processing Tfidf, total=   0.4s\n",
      "[Pipeline] .............. (step 2 of 2) Processing mnnb, total=   0.0s\n",
      "[Pipeline] ............. (step 1 of 2) Processing Tfidf, total=   0.4s\n",
      "[Pipeline] .............. (step 2 of 2) Processing mnnb, total=   0.0s\n",
      "[Pipeline] ............. (step 1 of 2) Processing Tfidf, total=   0.4s\n",
      "[Pipeline] .............. (step 2 of 2) Processing mnnb, total=   0.0s\n",
      "[Pipeline] ............. (step 1 of 2) Processing Tfidf, total=   0.4s\n",
      "[Pipeline] .............. (step 2 of 2) Processing mnnb, total=   0.0s\n",
      "[Pipeline] ............. (step 1 of 2) Processing Tfidf, total=   0.3s\n",
      "[Pipeline] .............. (step 2 of 2) Processing mnnb, total=   0.0s\n",
      "[Pipeline] ............. (step 1 of 2) Processing Tfidf, total=   0.3s\n",
      "[Pipeline] .............. (step 2 of 2) Processing mnnb, total=   0.0s\n",
      "[Pipeline] ............. (step 1 of 2) Processing Tfidf, total=   0.3s\n",
      "[Pipeline] .............. (step 2 of 2) Processing mnnb, total=   0.0s\n",
      "[Pipeline] ............. (step 1 of 2) Processing Tfidf, total=   0.3s\n",
      "[Pipeline] .............. (step 2 of 2) Processing mnnb, total=   0.0s\n",
      "[Pipeline] ............. (step 1 of 2) Processing Tfidf, total=   0.3s\n",
      "[Pipeline] .............. (step 2 of 2) Processing mnnb, total=   0.0s\n",
      "[Pipeline] ............. (step 1 of 2) Processing Tfidf, total=   0.3s\n",
      "[Pipeline] .............. (step 2 of 2) Processing mnnb, total=   0.0s\n",
      "[Pipeline] ............. (step 1 of 2) Processing Tfidf, total=   0.3s\n",
      "[Pipeline] .............. (step 2 of 2) Processing mnnb, total=   0.0s\n",
      "[Pipeline] ............. (step 1 of 2) Processing Tfidf, total=   0.3s\n",
      "[Pipeline] .............. (step 2 of 2) Processing mnnb, total=   0.0s\n",
      "[Pipeline] ............. (step 1 of 2) Processing Tfidf, total=   0.3s\n",
      "[Pipeline] .............. (step 2 of 2) Processing mnnb, total=   0.0s\n",
      "[Pipeline] ............. (step 1 of 2) Processing Tfidf, total=   0.3s\n",
      "[Pipeline] .............. (step 2 of 2) Processing mnnb, total=   0.0s\n",
      "[Pipeline] ............. (step 1 of 2) Processing Tfidf, total=   0.2s\n",
      "[Pipeline] .............. (step 2 of 2) Processing mnnb, total=   0.0s\n",
      "[Pipeline] ............. (step 1 of 2) Processing Tfidf, total=   0.2s\n",
      "[Pipeline] .............. (step 2 of 2) Processing mnnb, total=   0.0s\n",
      "[Pipeline] ............. (step 1 of 2) Processing Tfidf, total=   0.2s\n",
      "[Pipeline] .............. (step 2 of 2) Processing mnnb, total=   0.0s\n",
      "[Pipeline] ............. (step 1 of 2) Processing Tfidf, total=   0.2s\n",
      "[Pipeline] .............. (step 2 of 2) Processing mnnb, total=   0.0s\n",
      "[Pipeline] ............. (step 1 of 2) Processing Tfidf, total=   0.2s\n",
      "[Pipeline] .............. (step 2 of 2) Processing mnnb, total=   0.0s\n",
      "[Pipeline] ............. (step 1 of 2) Processing Tfidf, total=   0.1s\n",
      "[Pipeline] .............. (step 2 of 2) Processing mnnb, total=   0.0s\n",
      "[Pipeline] ............. (step 1 of 2) Processing Tfidf, total=   0.2s\n",
      "[Pipeline] .............. (step 2 of 2) Processing mnnb, total=   0.0s\n",
      "[Pipeline] ............. (step 1 of 2) Processing Tfidf, total=   0.1s\n",
      "[Pipeline] .............. (step 2 of 2) Processing mnnb, total=   0.0s\n",
      "[Pipeline] ............. (step 1 of 2) Processing Tfidf, total=   0.1s\n",
      "[Pipeline] .............. (step 2 of 2) Processing mnnb, total=   0.0s\n",
      "[Pipeline] ............. (step 1 of 2) Processing Tfidf, total=   0.1s\n",
      "[Pipeline] .............. (step 2 of 2) Processing mnnb, total=   0.0s\n",
      "[Pipeline] ............. (step 1 of 2) Processing Tfidf, total=   0.1s\n",
      "[Pipeline] .............. (step 2 of 2) Processing mnnb, total=   0.0s\n",
      "[Pipeline] ............. (step 1 of 2) Processing Tfidf, total=   0.1s\n",
      "[Pipeline] .............. (step 2 of 2) Processing mnnb, total=   0.0s\n",
      "[Pipeline] ............. (step 1 of 2) Processing Tfidf, total=   0.1s\n",
      "[Pipeline] .............. (step 2 of 2) Processing mnnb, total=   0.0s\n",
      "[Pipeline] ............. (step 1 of 2) Processing Tfidf, total=   0.1s\n",
      "[Pipeline] .............. (step 2 of 2) Processing mnnb, total=   0.0s\n",
      "[Pipeline] ............. (step 1 of 2) Processing Tfidf, total=   0.1s\n",
      "[Pipeline] .............. (step 2 of 2) Processing mnnb, total=   0.0s\n"
     ]
    },
    {
     "name": "stdout",
     "output_type": "stream",
     "text": [
      "[Pipeline] ............. (step 1 of 2) Processing Tfidf, total=   0.3s\n",
      "[Pipeline] .............. (step 2 of 2) Processing mnnb, total=   0.0s\n",
      "[Pipeline] ............. (step 1 of 2) Processing Tfidf, total=   0.3s\n",
      "[Pipeline] .............. (step 2 of 2) Processing mnnb, total=   0.0s\n",
      "[Pipeline] ............. (step 1 of 2) Processing Tfidf, total=   0.4s\n",
      "[Pipeline] .............. (step 2 of 2) Processing mnnb, total=   0.0s\n",
      "[Pipeline] ............. (step 1 of 2) Processing Tfidf, total=   0.4s\n",
      "[Pipeline] .............. (step 2 of 2) Processing mnnb, total=   0.0s\n",
      "[Pipeline] ............. (step 1 of 2) Processing Tfidf, total=   0.3s\n",
      "[Pipeline] .............. (step 2 of 2) Processing mnnb, total=   0.0s\n",
      "[Pipeline] ............. (step 1 of 2) Processing Tfidf, total=   0.2s\n",
      "[Pipeline] .............. (step 2 of 2) Processing mnnb, total=   0.0s\n",
      "[Pipeline] ............. (step 1 of 2) Processing Tfidf, total=   0.2s\n",
      "[Pipeline] .............. (step 2 of 2) Processing mnnb, total=   0.0s\n",
      "[Pipeline] ............. (step 1 of 2) Processing Tfidf, total=   0.2s\n",
      "[Pipeline] .............. (step 2 of 2) Processing mnnb, total=   0.0s\n",
      "[Pipeline] ............. (step 1 of 2) Processing Tfidf, total=   0.2s\n",
      "[Pipeline] .............. (step 2 of 2) Processing mnnb, total=   0.0s\n",
      "[Pipeline] ............. (step 1 of 2) Processing Tfidf, total=   0.2s\n",
      "[Pipeline] .............. (step 2 of 2) Processing mnnb, total=   0.0s\n",
      "[Pipeline] ............. (step 1 of 2) Processing Tfidf, total=   0.2s\n",
      "[Pipeline] .............. (step 2 of 2) Processing mnnb, total=   0.0s\n",
      "[Pipeline] ............. (step 1 of 2) Processing Tfidf, total=   0.2s\n",
      "[Pipeline] .............. (step 2 of 2) Processing mnnb, total=   0.0s\n",
      "[Pipeline] ............. (step 1 of 2) Processing Tfidf, total=   0.2s\n",
      "[Pipeline] .............. (step 2 of 2) Processing mnnb, total=   0.0s\n",
      "[Pipeline] ............. (step 1 of 2) Processing Tfidf, total=   0.2s\n",
      "[Pipeline] .............. (step 2 of 2) Processing mnnb, total=   0.0s\n",
      "[Pipeline] ............. (step 1 of 2) Processing Tfidf, total=   0.2s\n",
      "[Pipeline] .............. (step 2 of 2) Processing mnnb, total=   0.0s\n",
      "[Pipeline] ............. (step 1 of 2) Processing Tfidf, total=   0.2s\n",
      "[Pipeline] .............. (step 2 of 2) Processing mnnb, total=   0.0s\n",
      "[Pipeline] ............. (step 1 of 2) Processing Tfidf, total=   0.2s\n",
      "[Pipeline] .............. (step 2 of 2) Processing mnnb, total=   0.0s\n",
      "[Pipeline] ............. (step 1 of 2) Processing Tfidf, total=   0.2s\n",
      "[Pipeline] .............. (step 2 of 2) Processing mnnb, total=   0.0s\n",
      "[Pipeline] ............. (step 1 of 2) Processing Tfidf, total=   0.2s\n",
      "[Pipeline] .............. (step 2 of 2) Processing mnnb, total=   0.0s\n",
      "[Pipeline] ............. (step 1 of 2) Processing Tfidf, total=   0.2s\n",
      "[Pipeline] .............. (step 2 of 2) Processing mnnb, total=   0.0s\n",
      "[Pipeline] ............. (step 1 of 2) Processing Tfidf, total=   0.2s\n",
      "[Pipeline] .............. (step 2 of 2) Processing mnnb, total=   0.0s\n",
      "[Pipeline] ............. (step 1 of 2) Processing Tfidf, total=   0.1s\n",
      "[Pipeline] .............. (step 2 of 2) Processing mnnb, total=   0.0s\n",
      "[Pipeline] ............. (step 1 of 2) Processing Tfidf, total=   0.1s\n",
      "[Pipeline] .............. (step 2 of 2) Processing mnnb, total=   0.0s\n",
      "[Pipeline] ............. (step 1 of 2) Processing Tfidf, total=   0.1s\n",
      "[Pipeline] .............. (step 2 of 2) Processing mnnb, total=   0.0s\n",
      "[Pipeline] ............. (step 1 of 2) Processing Tfidf, total=   0.1s\n",
      "[Pipeline] .............. (step 2 of 2) Processing mnnb, total=   0.0s\n",
      "[Pipeline] ............. (step 1 of 2) Processing Tfidf, total=   0.1s\n",
      "[Pipeline] .............. (step 2 of 2) Processing mnnb, total=   0.0s\n",
      "[Pipeline] ............. (step 1 of 2) Processing Tfidf, total=   0.1s\n",
      "[Pipeline] .............. (step 2 of 2) Processing mnnb, total=   0.0s\n",
      "[Pipeline] ............. (step 1 of 2) Processing Tfidf, total=   0.1s\n",
      "[Pipeline] .............. (step 2 of 2) Processing mnnb, total=   0.0s\n",
      "[Pipeline] ............. (step 1 of 2) Processing Tfidf, total=   0.1s\n",
      "[Pipeline] .............. (step 2 of 2) Processing mnnb, total=   0.0s\n",
      "[Pipeline] ............. (step 1 of 2) Processing Tfidf, total=   0.1s\n",
      "[Pipeline] .............. (step 2 of 2) Processing mnnb, total=   0.0s\n",
      "[Pipeline] ............. (step 1 of 2) Processing Tfidf, total=   0.6s\n",
      "[Pipeline] .............. (step 2 of 2) Processing mnnb, total=   0.0s\n",
      "[Pipeline] ............. (step 1 of 2) Processing Tfidf, total=   0.6s\n",
      "[Pipeline] .............. (step 2 of 2) Processing mnnb, total=   0.0s\n",
      "[Pipeline] ............. (step 1 of 2) Processing Tfidf, total=   0.6s\n",
      "[Pipeline] .............. (step 2 of 2) Processing mnnb, total=   0.0s\n",
      "[Pipeline] ............. (step 1 of 2) Processing Tfidf, total=   0.6s\n",
      "[Pipeline] .............. (step 2 of 2) Processing mnnb, total=   0.0s\n",
      "[Pipeline] ............. (step 1 of 2) Processing Tfidf, total=   0.6s\n",
      "[Pipeline] .............. (step 2 of 2) Processing mnnb, total=   0.0s\n",
      "[Pipeline] ............. (step 1 of 2) Processing Tfidf, total=   0.4s\n",
      "[Pipeline] .............. (step 2 of 2) Processing mnnb, total=   0.0s\n",
      "[Pipeline] ............. (step 1 of 2) Processing Tfidf, total=   0.4s\n",
      "[Pipeline] .............. (step 2 of 2) Processing mnnb, total=   0.0s\n",
      "[Pipeline] ............. (step 1 of 2) Processing Tfidf, total=   0.4s\n",
      "[Pipeline] .............. (step 2 of 2) Processing mnnb, total=   0.0s\n",
      "[Pipeline] ............. (step 1 of 2) Processing Tfidf, total=   0.4s\n",
      "[Pipeline] .............. (step 2 of 2) Processing mnnb, total=   0.0s\n",
      "[Pipeline] ............. (step 1 of 2) Processing Tfidf, total=   0.4s\n",
      "[Pipeline] .............. (step 2 of 2) Processing mnnb, total=   0.0s\n",
      "[Pipeline] ............. (step 1 of 2) Processing Tfidf, total=   0.4s\n",
      "[Pipeline] .............. (step 2 of 2) Processing mnnb, total=   0.0s\n",
      "[Pipeline] ............. (step 1 of 2) Processing Tfidf, total=   0.4s\n",
      "[Pipeline] .............. (step 2 of 2) Processing mnnb, total=   0.0s\n",
      "[Pipeline] ............. (step 1 of 2) Processing Tfidf, total=   0.4s\n",
      "[Pipeline] .............. (step 2 of 2) Processing mnnb, total=   0.0s\n",
      "[Pipeline] ............. (step 1 of 2) Processing Tfidf, total=   0.4s\n",
      "[Pipeline] .............. (step 2 of 2) Processing mnnb, total=   0.0s\n",
      "[Pipeline] ............. (step 1 of 2) Processing Tfidf, total=   0.4s\n",
      "[Pipeline] .............. (step 2 of 2) Processing mnnb, total=   0.0s\n",
      "[Pipeline] ............. (step 1 of 2) Processing Tfidf, total=   0.5s\n",
      "[Pipeline] .............. (step 2 of 2) Processing mnnb, total=   0.0s\n",
      "[Pipeline] ............. (step 1 of 2) Processing Tfidf, total=   0.5s\n",
      "[Pipeline] .............. (step 2 of 2) Processing mnnb, total=   0.0s\n",
      "[Pipeline] ............. (step 1 of 2) Processing Tfidf, total=   0.5s\n",
      "[Pipeline] .............. (step 2 of 2) Processing mnnb, total=   0.0s\n",
      "[Pipeline] ............. (step 1 of 2) Processing Tfidf, total=   0.5s\n",
      "[Pipeline] .............. (step 2 of 2) Processing mnnb, total=   0.0s\n",
      "[Pipeline] ............. (step 1 of 2) Processing Tfidf, total=   0.5s\n",
      "[Pipeline] .............. (step 2 of 2) Processing mnnb, total=   0.0s\n",
      "[Pipeline] ............. (step 1 of 2) Processing Tfidf, total=   0.3s\n",
      "[Pipeline] .............. (step 2 of 2) Processing mnnb, total=   0.0s\n",
      "[Pipeline] ............. (step 1 of 2) Processing Tfidf, total=   0.3s\n",
      "[Pipeline] .............. (step 2 of 2) Processing mnnb, total=   0.0s\n",
      "[Pipeline] ............. (step 1 of 2) Processing Tfidf, total=   0.3s\n",
      "[Pipeline] .............. (step 2 of 2) Processing mnnb, total=   0.0s\n",
      "[Pipeline] ............. (step 1 of 2) Processing Tfidf, total=   0.4s\n",
      "[Pipeline] .............. (step 2 of 2) Processing mnnb, total=   0.0s\n",
      "[Pipeline] ............. (step 1 of 2) Processing Tfidf, total=   0.4s\n",
      "[Pipeline] .............. (step 2 of 2) Processing mnnb, total=   0.0s\n",
      "[Pipeline] ............. (step 1 of 2) Processing Tfidf, total=   0.3s\n",
      "[Pipeline] .............. (step 2 of 2) Processing mnnb, total=   0.0s\n",
      "[Pipeline] ............. (step 1 of 2) Processing Tfidf, total=   0.3s\n",
      "[Pipeline] .............. (step 2 of 2) Processing mnnb, total=   0.0s\n",
      "[Pipeline] ............. (step 1 of 2) Processing Tfidf, total=   0.3s\n",
      "[Pipeline] .............. (step 2 of 2) Processing mnnb, total=   0.0s\n"
     ]
    },
    {
     "name": "stdout",
     "output_type": "stream",
     "text": [
      "[Pipeline] ............. (step 1 of 2) Processing Tfidf, total=   0.3s\n",
      "[Pipeline] .............. (step 2 of 2) Processing mnnb, total=   0.0s\n",
      "[Pipeline] ............. (step 1 of 2) Processing Tfidf, total=   0.3s\n",
      "[Pipeline] .............. (step 2 of 2) Processing mnnb, total=   0.0s\n",
      "[Pipeline] ............. (step 1 of 2) Processing Tfidf, total=   0.4s\n",
      "[Pipeline] .............. (step 2 of 2) Processing mnnb, total=   0.0s\n",
      "[Pipeline] ............. (step 1 of 2) Processing Tfidf, total=   0.4s\n",
      "[Pipeline] .............. (step 2 of 2) Processing mnnb, total=   0.0s\n",
      "[Pipeline] ............. (step 1 of 2) Processing Tfidf, total=   0.4s\n",
      "[Pipeline] .............. (step 2 of 2) Processing mnnb, total=   0.0s\n",
      "[Pipeline] ............. (step 1 of 2) Processing Tfidf, total=   0.4s\n",
      "[Pipeline] .............. (step 2 of 2) Processing mnnb, total=   0.0s\n",
      "[Pipeline] ............. (step 1 of 2) Processing Tfidf, total=   0.4s\n",
      "[Pipeline] .............. (step 2 of 2) Processing mnnb, total=   0.0s\n",
      "[Pipeline] ............. (step 1 of 2) Processing Tfidf, total=   0.3s\n",
      "[Pipeline] .............. (step 2 of 2) Processing mnnb, total=   0.0s\n",
      "[Pipeline] ............. (step 1 of 2) Processing Tfidf, total=   0.3s\n",
      "[Pipeline] .............. (step 2 of 2) Processing mnnb, total=   0.0s\n",
      "[Pipeline] ............. (step 1 of 2) Processing Tfidf, total=   0.3s\n",
      "[Pipeline] .............. (step 2 of 2) Processing mnnb, total=   0.0s\n",
      "[Pipeline] ............. (step 1 of 2) Processing Tfidf, total=   0.3s\n",
      "[Pipeline] .............. (step 2 of 2) Processing mnnb, total=   0.0s\n",
      "[Pipeline] ............. (step 1 of 2) Processing Tfidf, total=   0.2s\n",
      "[Pipeline] .............. (step 2 of 2) Processing mnnb, total=   0.0s\n",
      "[Pipeline] ............. (step 1 of 2) Processing Tfidf, total=   0.2s\n",
      "[Pipeline] .............. (step 2 of 2) Processing mnnb, total=   0.0s\n",
      "[Pipeline] ............. (step 1 of 2) Processing Tfidf, total=   0.2s\n",
      "[Pipeline] .............. (step 2 of 2) Processing mnnb, total=   0.0s\n",
      "[Pipeline] ............. (step 1 of 2) Processing Tfidf, total=   0.2s\n",
      "[Pipeline] .............. (step 2 of 2) Processing mnnb, total=   0.0s\n",
      "[Pipeline] ............. (step 1 of 2) Processing Tfidf, total=   0.2s\n",
      "[Pipeline] .............. (step 2 of 2) Processing mnnb, total=   0.0s\n",
      "[Pipeline] ............. (step 1 of 2) Processing Tfidf, total=   0.2s\n",
      "[Pipeline] .............. (step 2 of 2) Processing mnnb, total=   0.0s\n",
      "[Pipeline] ............. (step 1 of 2) Processing Tfidf, total=   0.2s\n",
      "[Pipeline] .............. (step 2 of 2) Processing mnnb, total=   0.0s\n",
      "[Pipeline] ............. (step 1 of 2) Processing Tfidf, total=   0.2s\n",
      "[Pipeline] .............. (step 2 of 2) Processing mnnb, total=   0.0s\n",
      "[Pipeline] ............. (step 1 of 2) Processing Tfidf, total=   0.2s\n",
      "[Pipeline] .............. (step 2 of 2) Processing mnnb, total=   0.0s\n",
      "[Pipeline] ............. (step 1 of 2) Processing Tfidf, total=   0.2s\n",
      "[Pipeline] .............. (step 2 of 2) Processing mnnb, total=   0.0s\n",
      "[Pipeline] ............. (step 1 of 2) Processing Tfidf, total=   0.2s\n",
      "[Pipeline] .............. (step 2 of 2) Processing mnnb, total=   0.0s\n",
      "[Pipeline] ............. (step 1 of 2) Processing Tfidf, total=   0.1s\n",
      "[Pipeline] .............. (step 2 of 2) Processing mnnb, total=   0.0s\n",
      "[Pipeline] ............. (step 1 of 2) Processing Tfidf, total=   0.2s\n",
      "[Pipeline] .............. (step 2 of 2) Processing mnnb, total=   0.0s\n",
      "[Pipeline] ............. (step 1 of 2) Processing Tfidf, total=   0.1s\n",
      "[Pipeline] .............. (step 2 of 2) Processing mnnb, total=   0.0s\n",
      "[Pipeline] ............. (step 1 of 2) Processing Tfidf, total=   0.1s\n",
      "[Pipeline] .............. (step 2 of 2) Processing mnnb, total=   0.0s\n",
      "[Pipeline] ............. (step 1 of 2) Processing Tfidf, total=   0.1s\n",
      "[Pipeline] .............. (step 2 of 2) Processing mnnb, total=   0.0s\n",
      "[Pipeline] ............. (step 1 of 2) Processing Tfidf, total=   0.1s\n",
      "[Pipeline] .............. (step 2 of 2) Processing mnnb, total=   0.0s\n",
      "[Pipeline] ............. (step 1 of 2) Processing Tfidf, total=   0.1s\n",
      "[Pipeline] .............. (step 2 of 2) Processing mnnb, total=   0.0s\n",
      "[Pipeline] ............. (step 1 of 2) Processing Tfidf, total=   0.1s\n",
      "[Pipeline] .............. (step 2 of 2) Processing mnnb, total=   0.0s\n",
      "[Pipeline] ............. (step 1 of 2) Processing Tfidf, total=   0.1s\n",
      "[Pipeline] .............. (step 2 of 2) Processing mnnb, total=   0.0s\n",
      "[Pipeline] ............. (step 1 of 2) Processing Tfidf, total=   0.1s\n",
      "[Pipeline] .............. (step 2 of 2) Processing mnnb, total=   0.0s\n",
      "[Pipeline] ............. (step 1 of 2) Processing Tfidf, total=   0.2s"
     ]
    },
    {
     "name": "stderr",
     "output_type": "stream",
     "text": [
      "[Parallel(n_jobs=1)]: Done 150 out of 150 | elapsed:   44.2s finished\n"
     ]
    },
    {
     "name": "stdout",
     "output_type": "stream",
     "text": [
      "\n",
      "[Pipeline] .............. (step 2 of 2) Processing mnnb, total=   0.0s\n"
     ]
    },
    {
     "data": {
      "text/plain": [
       "GridSearchCV(estimator=Pipeline(steps=[('Tfidf', TfidfVectorizer()),\n",
       "                                       ('mnnb', MultinomialNB())],\n",
       "                                verbose=True),\n",
       "             param_grid={'Tfidf__ngram_range': [(1, 1), (1, 2), (1, 3), (2, 2),\n",
       "                                                (2, 3), (3, 3), (1, 4), (2, 4),\n",
       "                                                (3, 4), (4, 4)],\n",
       "                         'Tfidf__stop_words': [None, 'english',\n",
       "                                               ['i', 'me', 'my', 'myself', 'we',\n",
       "                                                'our', 'ours', 'ourselves',\n",
       "                                                'you', \"you're\", \"you've\",\n",
       "                                                \"you'll\", \"you'd\", 'your',\n",
       "                                                'yours', 'yourself',\n",
       "                                                'yourselves', 'he', 'him',\n",
       "                                                'his', 'himself', 'she',\n",
       "                                                \"she's\", 'her', 'hers',\n",
       "                                                'herself', 'it', \"it's\", 'its',\n",
       "                                                'itself', ...]]},\n",
       "             verbose=1)"
      ]
     },
     "execution_count": 16,
     "metadata": {},
     "output_type": "execute_result"
    }
   ],
   "source": [
    "#tfgrid1.fit(X=X_train, y=y_train)"
   ]
  },
  {
   "cell_type": "code",
   "execution_count": 17,
   "metadata": {},
   "outputs": [
    {
     "data": {
      "text/plain": [
       "Pipeline(steps=[('Tfidf',\n",
       "                 TfidfVectorizer(ngram_range=(2, 2),\n",
       "                                 stop_words=['i', 'me', 'my', 'myself', 'we',\n",
       "                                             'our', 'ours', 'ourselves', 'you',\n",
       "                                             \"you're\", \"you've\", \"you'll\",\n",
       "                                             \"you'd\", 'your', 'yours',\n",
       "                                             'yourself', 'yourselves', 'he',\n",
       "                                             'him', 'his', 'himself', 'she',\n",
       "                                             \"she's\", 'her', 'hers', 'herself',\n",
       "                                             'it', \"it's\", 'its', 'itself', ...])),\n",
       "                ('mnnb', MultinomialNB())],\n",
       "         verbose=True)"
      ]
     },
     "execution_count": 17,
     "metadata": {},
     "output_type": "execute_result"
    }
   ],
   "source": [
    "#tfgrid1.best_estimator_"
   ]
  },
  {
   "cell_type": "code",
   "execution_count": 18,
   "metadata": {},
   "outputs": [
    {
     "data": {
      "text/plain": [
       "0.6593361848432494"
      ]
     },
     "execution_count": 18,
     "metadata": {},
     "output_type": "execute_result"
    }
   ],
   "source": [
    "#tfgrid1.best_score_"
   ]
  },
  {
   "cell_type": "code",
   "execution_count": 19,
   "metadata": {},
   "outputs": [
    {
     "data": {
      "text/plain": [
       "{'Tfidf__ngram_range': (2, 2),\n",
       " 'Tfidf__stop_words': ['i',\n",
       "  'me',\n",
       "  'my',\n",
       "  'myself',\n",
       "  'we',\n",
       "  'our',\n",
       "  'ours',\n",
       "  'ourselves',\n",
       "  'you',\n",
       "  \"you're\",\n",
       "  \"you've\",\n",
       "  \"you'll\",\n",
       "  \"you'd\",\n",
       "  'your',\n",
       "  'yours',\n",
       "  'yourself',\n",
       "  'yourselves',\n",
       "  'he',\n",
       "  'him',\n",
       "  'his',\n",
       "  'himself',\n",
       "  'she',\n",
       "  \"she's\",\n",
       "  'her',\n",
       "  'hers',\n",
       "  'herself',\n",
       "  'it',\n",
       "  \"it's\",\n",
       "  'its',\n",
       "  'itself',\n",
       "  'they',\n",
       "  'them',\n",
       "  'their',\n",
       "  'theirs',\n",
       "  'themselves',\n",
       "  'what',\n",
       "  'which',\n",
       "  'who',\n",
       "  'whom',\n",
       "  'this',\n",
       "  'that',\n",
       "  \"that'll\",\n",
       "  'these',\n",
       "  'those',\n",
       "  'am',\n",
       "  'is',\n",
       "  'are',\n",
       "  'was',\n",
       "  'were',\n",
       "  'be',\n",
       "  'been',\n",
       "  'being',\n",
       "  'have',\n",
       "  'has',\n",
       "  'had',\n",
       "  'having',\n",
       "  'do',\n",
       "  'does',\n",
       "  'did',\n",
       "  'doing',\n",
       "  'a',\n",
       "  'an',\n",
       "  'the',\n",
       "  'and',\n",
       "  'but',\n",
       "  'if',\n",
       "  'or',\n",
       "  'because',\n",
       "  'as',\n",
       "  'until',\n",
       "  'while',\n",
       "  'of',\n",
       "  'at',\n",
       "  'by',\n",
       "  'for',\n",
       "  'with',\n",
       "  'about',\n",
       "  'against',\n",
       "  'between',\n",
       "  'into',\n",
       "  'through',\n",
       "  'during',\n",
       "  'before',\n",
       "  'after',\n",
       "  'above',\n",
       "  'below',\n",
       "  'to',\n",
       "  'from',\n",
       "  'up',\n",
       "  'down',\n",
       "  'in',\n",
       "  'out',\n",
       "  'on',\n",
       "  'off',\n",
       "  'over',\n",
       "  'under',\n",
       "  'again',\n",
       "  'further',\n",
       "  'then',\n",
       "  'once',\n",
       "  'here',\n",
       "  'there',\n",
       "  'when',\n",
       "  'where',\n",
       "  'why',\n",
       "  'how',\n",
       "  'all',\n",
       "  'any',\n",
       "  'both',\n",
       "  'each',\n",
       "  'few',\n",
       "  'more',\n",
       "  'most',\n",
       "  'other',\n",
       "  'some',\n",
       "  'such',\n",
       "  'no',\n",
       "  'nor',\n",
       "  'not',\n",
       "  'only',\n",
       "  'own',\n",
       "  'same',\n",
       "  'so',\n",
       "  'than',\n",
       "  'too',\n",
       "  'very',\n",
       "  's',\n",
       "  't',\n",
       "  'can',\n",
       "  'will',\n",
       "  'just',\n",
       "  'don',\n",
       "  \"don't\",\n",
       "  'should',\n",
       "  \"should've\",\n",
       "  'now',\n",
       "  'd',\n",
       "  'll',\n",
       "  'm',\n",
       "  'o',\n",
       "  're',\n",
       "  've',\n",
       "  'y',\n",
       "  'ain',\n",
       "  'aren',\n",
       "  \"aren't\",\n",
       "  'couldn',\n",
       "  \"couldn't\",\n",
       "  'didn',\n",
       "  \"didn't\",\n",
       "  'doesn',\n",
       "  \"doesn't\",\n",
       "  'hadn',\n",
       "  \"hadn't\",\n",
       "  'hasn',\n",
       "  \"hasn't\",\n",
       "  'haven',\n",
       "  \"haven't\",\n",
       "  'isn',\n",
       "  \"isn't\",\n",
       "  'ma',\n",
       "  'mightn',\n",
       "  \"mightn't\",\n",
       "  'mustn',\n",
       "  \"mustn't\",\n",
       "  'needn',\n",
       "  \"needn't\",\n",
       "  'shan',\n",
       "  \"shan't\",\n",
       "  'shouldn',\n",
       "  \"shouldn't\",\n",
       "  'wasn',\n",
       "  \"wasn't\",\n",
       "  'weren',\n",
       "  \"weren't\",\n",
       "  'won',\n",
       "  \"won't\",\n",
       "  'wouldn',\n",
       "  \"wouldn't\",\n",
       "  'sxsw',\n",
       "  'mention']}"
      ]
     },
     "execution_count": 19,
     "metadata": {},
     "output_type": "execute_result"
    }
   ],
   "source": [
    "#tfgrid1.best_params_"
   ]
  },
  {
   "cell_type": "code",
   "execution_count": 20,
   "metadata": {},
   "outputs": [],
   "source": [
    "tfgrid1best = Pipeline(steps=[('Tfidf',\n",
    "                 TfidfVectorizer(ngram_range=(2, 2),\n",
    "                                 stop_words= nltk_sw)),\n",
    "                ('mnnb', MultinomialNB())],\n",
    "         verbose=True)"
   ]
  },
  {
   "cell_type": "code",
   "execution_count": 21,
   "metadata": {},
   "outputs": [
    {
     "name": "stdout",
     "output_type": "stream",
     "text": [
      "[Pipeline] ............. (step 1 of 2) Processing Tfidf, total=   0.2s\n",
      "[Pipeline] .............. (step 2 of 2) Processing mnnb, total=   0.0s\n"
     ]
    },
    {
     "data": {
      "text/plain": [
       "Pipeline(steps=[('Tfidf',\n",
       "                 TfidfVectorizer(ngram_range=(2, 2),\n",
       "                                 stop_words=['i', 'me', 'my', 'myself', 'we',\n",
       "                                             'our', 'ours', 'ourselves', 'you',\n",
       "                                             \"you're\", \"you've\", \"you'll\",\n",
       "                                             \"you'd\", 'your', 'yours',\n",
       "                                             'yourself', 'yourselves', 'he',\n",
       "                                             'him', 'his', 'himself', 'she',\n",
       "                                             \"she's\", 'her', 'hers', 'herself',\n",
       "                                             'it', \"it's\", 'its', 'itself', ...])),\n",
       "                ('mnnb', MultinomialNB())],\n",
       "         verbose=True)"
      ]
     },
     "execution_count": 21,
     "metadata": {},
     "output_type": "execute_result"
    }
   ],
   "source": [
    "tfgrid1best.fit(X_train, y_train)"
   ]
  },
  {
   "cell_type": "code",
   "execution_count": 22,
   "metadata": {},
   "outputs": [
    {
     "name": "stdout",
     "output_type": "stream",
     "text": [
      "[Pipeline] ............. (step 1 of 2) Processing Tfidf, total=   0.1s\n",
      "[Pipeline] .............. (step 2 of 2) Processing mnnb, total=   0.0s\n",
      "[Pipeline] ............. (step 1 of 2) Processing Tfidf, total=   0.1s\n",
      "[Pipeline] .............. (step 2 of 2) Processing mnnb, total=   0.0s\n",
      "[Pipeline] ............. (step 1 of 2) Processing Tfidf, total=   0.1s\n",
      "[Pipeline] .............. (step 2 of 2) Processing mnnb, total=   0.0s\n",
      "[Pipeline] ............. (step 1 of 2) Processing Tfidf, total=   0.1s\n",
      "[Pipeline] .............. (step 2 of 2) Processing mnnb, total=   0.0s\n",
      "[Pipeline] ............. (step 1 of 2) Processing Tfidf, total=   0.1s\n",
      "[Pipeline] .............. (step 2 of 2) Processing mnnb, total=   0.0s\n",
      "The cv mean of Best from tfgrid1 is 0.6593361848432494\n"
     ]
    }
   ],
   "source": [
    "reportcrossval(tfgrid1best, 'Best from tfgrid1', X_train, y_train)"
   ]
  },
  {
   "cell_type": "code",
   "execution_count": null,
   "metadata": {},
   "outputs": [],
   "source": []
  }
 ],
 "metadata": {
  "kernelspec": {
   "display_name": "Python (learn-env)",
   "language": "python",
   "name": "learn-env"
  },
  "language_info": {
   "codemirror_mode": {
    "name": "ipython",
    "version": 3
   },
   "file_extension": ".py",
   "mimetype": "text/x-python",
   "name": "python",
   "nbconvert_exporter": "python",
   "pygments_lexer": "ipython3",
   "version": "3.8.5"
  }
 },
 "nbformat": 4,
 "nbformat_minor": 4
}
